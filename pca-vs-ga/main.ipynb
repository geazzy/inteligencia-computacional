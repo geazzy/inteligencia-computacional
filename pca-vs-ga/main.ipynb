{
 "cells": [
  {
   "cell_type": "code",
   "execution_count": 1,
   "metadata": {},
   "outputs": [
    {
     "name": "stderr",
     "output_type": "stream",
     "text": [
      "/home/zanoni/dev/inteligencia-computacional/.venv/lib/python3.10/site-packages/tqdm/auto.py:21: TqdmWarning: IProgress not found. Please update jupyter and ipywidgets. See https://ipywidgets.readthedocs.io/en/stable/user_install.html\n",
      "  from .autonotebook import tqdm as notebook_tqdm\n",
      "2023-11-09 17:58:19.689247: I tensorflow/tsl/cuda/cudart_stub.cc:28] Could not find cuda drivers on your machine, GPU will not be used.\n",
      "2023-11-09 17:58:19.720334: E tensorflow/compiler/xla/stream_executor/cuda/cuda_dnn.cc:9342] Unable to register cuDNN factory: Attempting to register factory for plugin cuDNN when one has already been registered\n",
      "2023-11-09 17:58:19.720358: E tensorflow/compiler/xla/stream_executor/cuda/cuda_fft.cc:609] Unable to register cuFFT factory: Attempting to register factory for plugin cuFFT when one has already been registered\n",
      "2023-11-09 17:58:19.720383: E tensorflow/compiler/xla/stream_executor/cuda/cuda_blas.cc:1518] Unable to register cuBLAS factory: Attempting to register factory for plugin cuBLAS when one has already been registered\n",
      "2023-11-09 17:58:19.726186: I tensorflow/tsl/cuda/cudart_stub.cc:28] Could not find cuda drivers on your machine, GPU will not be used.\n",
      "2023-11-09 17:58:19.726524: I tensorflow/core/platform/cpu_feature_guard.cc:182] This TensorFlow binary is optimized to use available CPU instructions in performance-critical operations.\n",
      "To enable the following instructions: AVX2 FMA, in other operations, rebuild TensorFlow with the appropriate compiler flags.\n",
      "2023-11-09 17:58:20.439041: W tensorflow/compiler/tf2tensorrt/utils/py_utils.cc:38] TF-TRT Warning: Could not find TensorRT\n"
     ]
    }
   ],
   "source": [
    "import numpy as np\n",
    "import matplotlib.pyplot as plt\n",
    "from sklearn_genetic.plots import plot_fitness_evolution\n",
    "\n",
    "from sklearn.neighbors import KNeighborsClassifier\n",
    "from sklearn.svm import SVC\n",
    "from sklearn.tree import DecisionTreeClassifier\n",
    "from sklearn.neural_network import MLPClassifier\n",
    "from sklearn.ensemble import RandomForestClassifier\n",
    "from sklearn.ensemble import VotingClassifier\n",
    "\n",
    "from sklearn.metrics import accuracy_score\n",
    "from sklearn.preprocessing import StandardScaler\n",
    "\n",
    "from sklearn import decomposition\n",
    "from sklearn_genetic import GAFeatureSelectionCV"
   ]
  },
  {
   "cell_type": "markdown",
   "metadata": {},
   "source": [
    "### Load Data"
   ]
  },
  {
   "cell_type": "code",
   "execution_count": 2,
   "metadata": {},
   "outputs": [],
   "source": [
    "# load data\n",
    "tr = np.loadtxt('../datasets/baseIAM/treino_baseIAM_301_Filter_1x1_new2.txt')\n",
    "X_train = tr[:, 0 : -1]\n",
    "y_train = tr[:, -1]\n",
    "\n",
    "ts = np.loadtxt('../datasets/baseIAM/teste_baseIAM_301_Filter_1x1_new2.txt')\n",
    "X_test  = ts[:, 0 : -1]\n",
    "y_test  = ts[:, -1]\n",
    "\n",
    "# Normaliza os dados...\n",
    "scaler = StandardScaler()\n",
    "X_train = scaler.fit_transform(X_train)\n",
    "X_test = scaler.fit_transform(X_test)"
   ]
  },
  {
   "cell_type": "code",
   "execution_count": 4,
   "metadata": {},
   "outputs": [],
   "source": [
    "def test_classifiers(X_train, X_test, y_train, y_test):\n",
    "    ### k-NN\n",
    "    clf = KNeighborsClassifier(n_neighbors=3, metric='euclidean')\n",
    "    clf.fit(X_train, y_train)\n",
    "    y_pred = clf.predict(X_test)\n",
    "    print('kNN', accuracy_score(y_test, y_pred))\n",
    "\n",
    "    ### Decision Tree\n",
    "    clf = DecisionTreeClassifier()\n",
    "    clf.fit(X_train, y_train)\n",
    "    y_pred = clf.predict(X_test)\n",
    "    print('DTC', accuracy_score(y_test, y_pred))\n",
    "\n",
    "    ### SVM\n",
    "    clf = SVC(probability=True, kernel='rbf')\n",
    "    clf.fit(X_train, y_train)\n",
    "    y_pred = clf.predict(X_test)\n",
    "    print('SVM', accuracy_score(y_test, y_pred))\n",
    "\n",
    "    ### MLP\n",
    "    clf = MLPClassifier(solver='adam', alpha=1e-5, hidden_layer_sizes=(20))\n",
    "    clf.fit(X_train, y_train)\n",
    "    y_pred = clf.predict(X_test)\n",
    "    print('MLP', accuracy_score(y_test, y_pred))\n",
    "\n",
    "    ### RFC\n",
    "    clf = RandomForestClassifier(n_estimators=1000, max_depth=30)\n",
    "    clf.fit(X_train, y_train)  \n",
    "    y_pred = clf.predict(X_test)\n",
    "    print('RFC', accuracy_score(y_test, y_pred))"
   ]
  },
  {
   "cell_type": "markdown",
   "metadata": {},
   "source": [
    "### Base Não Reduzida"
   ]
  },
  {
   "cell_type": "code",
   "execution_count": 4,
   "metadata": {},
   "outputs": [
    {
     "name": "stdout",
     "output_type": "stream",
     "text": [
      "kNN 0.6172757475083056\n",
      "DTC 0.3023255813953488\n",
      "SVM 0.706312292358804\n",
      "MLP 0.6\n",
      "RFC 0.7322259136212624\n"
     ]
    }
   ],
   "source": [
    "test_classifiers(X_train, X_test, y_train, y_test)"
   ]
  },
  {
   "cell_type": "markdown",
   "metadata": {},
   "source": [
    "### Base Reduzida Com PCA"
   ]
  },
  {
   "cell_type": "code",
   "execution_count": 5,
   "metadata": {},
   "outputs": [
    {
     "name": "stdout",
     "output_type": "stream",
     "text": [
      "------------------ PCA {n} ------------------\n",
      "kNN 0.5322259136212625\n",
      "DTC 0.27109634551495015\n",
      "SVM 0.5900332225913621\n"
     ]
    },
    {
     "name": "stderr",
     "output_type": "stream",
     "text": [
      "/home/zanoni/dev/inteligencia-computacional/.venv/lib/python3.10/site-packages/sklearn/neural_network/_multilayer_perceptron.py:691: ConvergenceWarning: Stochastic Optimizer: Maximum iterations (200) reached and the optimization hasn't converged yet.\n",
      "  warnings.warn(\n"
     ]
    },
    {
     "name": "stdout",
     "output_type": "stream",
     "text": [
      "MLP 0.5687707641196014\n",
      "RFC 0.6093023255813953\n",
      "\n",
      "------------------ PCA {n} ------------------\n",
      "kNN 0.5794019933554817\n",
      "DTC 0.24518272425249169\n",
      "SVM 0.6524916943521595\n"
     ]
    },
    {
     "name": "stderr",
     "output_type": "stream",
     "text": [
      "/home/zanoni/dev/inteligencia-computacional/.venv/lib/python3.10/site-packages/sklearn/neural_network/_multilayer_perceptron.py:691: ConvergenceWarning: Stochastic Optimizer: Maximum iterations (200) reached and the optimization hasn't converged yet.\n",
      "  warnings.warn(\n"
     ]
    },
    {
     "name": "stdout",
     "output_type": "stream",
     "text": [
      "MLP 0.612624584717608\n",
      "RFC 0.6724252491694352\n",
      "\n",
      "------------------ PCA {n} ------------------\n",
      "kNN 0.612624584717608\n",
      "DTC 0.23322259136212625\n",
      "SVM 0.6823920265780731\n"
     ]
    },
    {
     "name": "stderr",
     "output_type": "stream",
     "text": [
      "/home/zanoni/dev/inteligencia-computacional/.venv/lib/python3.10/site-packages/sklearn/neural_network/_multilayer_perceptron.py:691: ConvergenceWarning: Stochastic Optimizer: Maximum iterations (200) reached and the optimization hasn't converged yet.\n",
      "  warnings.warn(\n"
     ]
    },
    {
     "name": "stdout",
     "output_type": "stream",
     "text": [
      "MLP 0.6013289036544851\n",
      "RFC 0.7016611295681063\n",
      "\n",
      "------------------ PCA {n} ------------------\n",
      "kNN 0.6066445182724253\n",
      "DTC 0.21993355481727575\n",
      "SVM 0.692358803986711\n"
     ]
    },
    {
     "name": "stderr",
     "output_type": "stream",
     "text": [
      "/home/zanoni/dev/inteligencia-computacional/.venv/lib/python3.10/site-packages/sklearn/neural_network/_multilayer_perceptron.py:691: ConvergenceWarning: Stochastic Optimizer: Maximum iterations (200) reached and the optimization hasn't converged yet.\n",
      "  warnings.warn(\n"
     ]
    },
    {
     "name": "stdout",
     "output_type": "stream",
     "text": [
      "MLP 0.6186046511627907\n",
      "RFC 0.704983388704319\n",
      "\n",
      "------------------ PCA {n} ------------------\n",
      "kNN 0.6099667774086379\n",
      "DTC 0.20863787375415282\n",
      "SVM 0.695016611295681\n"
     ]
    },
    {
     "name": "stderr",
     "output_type": "stream",
     "text": [
      "/home/zanoni/dev/inteligencia-computacional/.venv/lib/python3.10/site-packages/sklearn/neural_network/_multilayer_perceptron.py:691: ConvergenceWarning: Stochastic Optimizer: Maximum iterations (200) reached and the optimization hasn't converged yet.\n",
      "  warnings.warn(\n"
     ]
    },
    {
     "name": "stdout",
     "output_type": "stream",
     "text": [
      "MLP 0.6146179401993356\n",
      "RFC 0.6724252491694352\n",
      "\n",
      "------------------ PCA {n} ------------------\n",
      "kNN 0.6112956810631229\n",
      "DTC 0.1973421926910299\n",
      "SVM 0.7043189368770764\n",
      "MLP 0.5754152823920266\n",
      "RFC 0.6485049833887043\n",
      "\n"
     ]
    }
   ],
   "source": [
    "n_components = [16, 32, 64, 128, 256, 512]\n",
    "\n",
    "for n in n_components:\n",
    "    #build PCA\n",
    "    pca = decomposition.PCA(n)\n",
    "    pca.fit(X_train)\n",
    "\n",
    "    #fit\n",
    "    X_train_pca = pca.transform(X_train)\n",
    "    X_test_pca = pca.transform(X_test)\n",
    "\n",
    "    #test\n",
    "    print('------------------ PCA {n} ------------------')\n",
    "    test_classifiers(X_train_pca, X_test_pca, y_train, y_test)\n",
    "    print()"
   ]
  },
  {
   "cell_type": "markdown",
   "metadata": {},
   "source": [
    "### Base Reduzida Com AG"
   ]
  },
  {
   "cell_type": "code",
   "execution_count": 5,
   "metadata": {},
   "outputs": [
    {
     "name": "stdout",
     "output_type": "stream",
     "text": [
      "gen\tnevals\tfitness \tfitness_std\tfitness_max\tfitness_min\n",
      "0  \t50    \t0.798789\t0.00649973 \t0.81137    \t0.779993   \n",
      "1  \t100   \t0.802732\t0.00444994 \t0.812108   \t0.79402    \n",
      "2  \t100   \t0.804629\t0.00406578 \t0.812108   \t0.796604   \n",
      "GA Accuracy: 0.7102990033222591\n"
     ]
    },
    {
     "name": "stderr",
     "output_type": "stream",
     "text": [
      "/home/zanoni/dev/inteligencia-computacional/.venv/lib/python3.10/site-packages/sklearn_genetic/plots.py:48: UserWarning: Ignoring `palette` because no `hue` variable has been assigned.\n",
      "  ax = sns.lineplot(x=range(len(estimator)), y=fitness_history, markers=True, palette=palette)\n"
     ]
    },
    {
     "data": {
      "image/png": "[encoded data removed]",
      "text/plain": [
       "<Figure size 1000x1000 with 1 Axes>"
      ]
     },
     "metadata": {},
     "output_type": "display_data"
    }
   ],
   "source": [
    "# clf = KNeighborsClassifier(n_neighbors=3, metric='euclidean')\n",
    "clf = SVC(probability=True, kernel='rbf')\n",
    "\n",
    "evolved_estimator = GAFeatureSelectionCV(\n",
    "    estimator=clf,\n",
    "    cv=3,\n",
    "    scoring=\"accuracy\",\n",
    "    population_size=50,\n",
    "    generations=2,\n",
    "    n_jobs=-1,\n",
    "    keep_top_k=5,\n",
    "    elitism=True,\n",
    ")\n",
    "\n",
    "evolved_estimator.fit(X_train, y_train)\n",
    "\n",
    "# Predict only with the subset of selected features\n",
    "y_predict_ga = evolved_estimator.predict(X_test)\n",
    "print('GA Accuracy:', accuracy_score(y_test, y_predict_ga))\n",
    "    \n",
    "#plot\n",
    "plot_fitness_evolution(evolved_estimator)\n",
    "# plt.savefig(\"genetico.png\") \n",
    "plt.show()"
   ]
  },
  {
   "cell_type": "code",
   "execution_count": 6,
   "metadata": {},
   "outputs": [
    {
     "name": "stdout",
     "output_type": "stream",
     "text": [
      "(2709, 571) (1505, 571)\n",
      "kNN 0.5807308970099668\n",
      "DTC 0.3016611295681063\n",
      "SVM 0.7102990033222591\n"
     ]
    },
    {
     "name": "stderr",
     "output_type": "stream",
     "text": [
      "/home/zanoni/dev/inteligencia-computacional/.venv/lib/python3.10/site-packages/sklearn/neural_network/_multilayer_perceptron.py:691: ConvergenceWarning: Stochastic Optimizer: Maximum iterations (200) reached and the optimization hasn't converged yet.\n",
      "  warnings.warn(\n"
     ]
    },
    {
     "name": "stdout",
     "output_type": "stream",
     "text": [
      "MLP 0.5581395348837209\n",
      "RFC 0.7395348837209302\n"
     ]
    }
   ],
   "source": [
    "X_train_ga = evolved_estimator.transform(X_train)\n",
    "X_test_ga = evolved_estimator.transform(X_test)\n",
    "print(X_train_ga.shape, X_test_ga.shape)\n",
    "\n",
    "test_classifiers(X_train_ga, X_test_ga, y_train, y_test)"
   ]
  },
  {
   "cell_type": "markdown",
   "metadata": {},
   "source": [
    "### Combinação de Classificadores"
   ]
  },
  {
   "cell_type": "code",
   "execution_count": 7,
   "metadata": {},
   "outputs": [
    {
     "name": "stderr",
     "output_type": "stream",
     "text": [
      "/home/zanoni/dev/inteligencia-computacional/.venv/lib/python3.10/site-packages/sklearn/neural_network/_multilayer_perceptron.py:691: ConvergenceWarning: Stochastic Optimizer: Maximum iterations (200) reached and the optimization hasn't converged yet.\n",
      "  warnings.warn(\n"
     ]
    },
    {
     "name": "stdout",
     "output_type": "stream",
     "text": [
      "SOMA 0.6784053156146179\n"
     ]
    },
    {
     "name": "stderr",
     "output_type": "stream",
     "text": [
      "/home/zanoni/dev/inteligencia-computacional/.venv/lib/python3.10/site-packages/sklearn/neural_network/_multilayer_perceptron.py:691: ConvergenceWarning: Stochastic Optimizer: Maximum iterations (200) reached and the optimization hasn't converged yet.\n",
      "  warnings.warn(\n"
     ]
    },
    {
     "name": "stdout",
     "output_type": "stream",
     "text": [
      "MAXIMO 0.6059800664451828\n"
     ]
    }
   ],
   "source": [
    "# Caracteristicas\n",
    "X_tr, y_tr = X_train_ga, y_train\n",
    "X_te, y_te = X_test_ga, y_test\n",
    "\n",
    "knn = KNeighborsClassifier(n_neighbors=3, metric='euclidean')\n",
    "svm = SVC(probability=True, kernel='rbf')\n",
    "mlp = MLPClassifier(solver='adam', alpha=1e-5, hidden_layer_sizes=(20))\n",
    "dtc = DecisionTreeClassifier()\n",
    "\n",
    "# Regra da Soma\n",
    "# voting = hard -> uses predicted class labels for majority rule voting\n",
    "clf = VotingClassifier(estimators=[('knn', knn), ('svm', svm), ('mlp', mlp), ('dtc', dtc)], voting='hard')\n",
    "clf.fit(X_tr, y_tr)\n",
    "y_pred = clf.predict(X_te)\n",
    "print('SOMA', accuracy_score(y_te, y_pred))\n",
    "\n",
    "# Regra do Maximo\n",
    "# voting = soft -> predicts the class label based on the argmax of the sums of the predicted probabilities,\n",
    "clf = VotingClassifier(estimators=[('knn', knn), ('svm', svm), ('mlp', mlp), ('dtc', dtc)], voting='soft')\n",
    "clf.fit(X_tr, y_tr)\n",
    "y_pred = clf.predict(X_te)\n",
    "print('MAXIMO', accuracy_score(y_te, y_pred))\n",
    "\n",
    "# Regra do Produto"
   ]
  }
 ],
 "metadata": {
  "kernelspec": {
   "display_name": ".venv",
   "language": "python",
   "name": "python3"
  },
  "language_info": {
   "codemirror_mode": {
    "name": "ipython",
    "version": 3
   },
   "file_extension": ".py",
   "mimetype": "text/x-python",
   "name": "python",
   "nbconvert_exporter": "python",
   "pygments_lexer": "ipython3",
   "version": "3.10.12"
  }
 },
 "nbformat": 4,
 "nbformat_minor": 2
}
