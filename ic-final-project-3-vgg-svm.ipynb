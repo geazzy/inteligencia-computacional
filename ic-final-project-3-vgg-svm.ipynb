{
 "cells": [
  {
   "cell_type": "markdown",
   "id": "2868388d",
   "metadata": {
    "papermill": {
     "duration": 0.004039,
     "end_time": "2023-12-06T13:46:51.038336",
     "exception": false,
     "start_time": "2023-12-06T13:46:51.034297",
     "status": "completed"
    },
    "tags": []
   },
   "source": [
    "### Etapas:\n",
    "1. Examinar e entender os dados (Pré processamento)\n",
    "2. **Criar um pipeline de entrada (Extraçao de características)**\n",
    "3. Criar o modelo de classificação\n",
    "4. Treine o modelo\n",
    "5. Avaliar modelo"
   ]
  },
  {
   "cell_type": "code",
   "execution_count": 1,
   "id": "fba5ee26",
   "metadata": {
    "execution": {
     "iopub.execute_input": "2023-12-06T13:46:51.047416Z",
     "iopub.status.busy": "2023-12-06T13:46:51.047042Z",
     "iopub.status.idle": "2023-12-06T13:46:55.170105Z",
     "shell.execute_reply": "2023-12-06T13:46:55.169333Z"
    },
    "papermill": {
     "duration": 4.130601,
     "end_time": "2023-12-06T13:46:55.172915",
     "exception": false,
     "start_time": "2023-12-06T13:46:51.042314",
     "status": "completed"
    },
    "tags": []
   },
   "outputs": [],
   "source": [
    "from PIL import Image\n",
    "\n",
    "import numpy as np\n",
    "import pandas as pd\n",
    "\n",
    "import torch\n",
    "import torchvision.models as models\n",
    "import torchvision.transforms as transforms"
   ]
  },
  {
   "cell_type": "markdown",
   "id": "23730f6f",
   "metadata": {
    "papermill": {
     "duration": 0.003676,
     "end_time": "2023-12-06T13:46:55.180861",
     "exception": false,
     "start_time": "2023-12-06T13:46:55.177185",
     "status": "completed"
    },
    "tags": []
   },
   "source": [
    "#### Pre-Processamento"
   ]
  },
  {
   "cell_type": "code",
   "execution_count": 2,
   "id": "73dca5fc",
   "metadata": {
    "_cell_guid": "b1076dfc-b9ad-4769-8c92-a6c4dae69d19",
    "_uuid": "8f2839f25d086af736a60e9eeb907d3b93b6e0e5",
    "execution": {
     "iopub.execute_input": "2023-12-06T13:46:55.190421Z",
     "iopub.status.busy": "2023-12-06T13:46:55.189945Z",
     "iopub.status.idle": "2023-12-06T13:46:55.546408Z",
     "shell.execute_reply": "2023-12-06T13:46:55.545650Z"
    },
    "papermill": {
     "duration": 0.364353,
     "end_time": "2023-12-06T13:46:55.548719",
     "exception": false,
     "start_time": "2023-12-06T13:46:55.184366",
     "status": "completed"
    },
    "tags": []
   },
   "outputs": [],
   "source": [
    "# Pre Processing\n",
    "\n",
    "df = pd.read_csv('/kaggle/input/breakhis/Folds.csv')\n",
    "df[\"class\"] = df[\"filename\"].str.split('/').str[3]\n",
    "df[\"filename\"] = '/kaggle/input/breakhis/BreaKHis_v1/' + df[\"filename\"]\n",
    "\n",
    "# print(df)"
   ]
  },
  {
   "cell_type": "markdown",
   "id": "11d562a2",
   "metadata": {
    "papermill": {
     "duration": 0.004366,
     "end_time": "2023-12-06T13:46:55.557175",
     "exception": false,
     "start_time": "2023-12-06T13:46:55.552809",
     "status": "completed"
    },
    "tags": []
   },
   "source": [
    "#### Inicializando VGG16"
   ]
  },
  {
   "cell_type": "code",
   "execution_count": 3,
   "id": "170b1542",
   "metadata": {
    "execution": {
     "iopub.execute_input": "2023-12-06T13:46:55.568158Z",
     "iopub.status.busy": "2023-12-06T13:46:55.567244Z",
     "iopub.status.idle": "2023-12-06T13:47:00.408113Z",
     "shell.execute_reply": "2023-12-06T13:47:00.407028Z"
    },
    "papermill": {
     "duration": 4.849403,
     "end_time": "2023-12-06T13:47:00.410447",
     "exception": false,
     "start_time": "2023-12-06T13:46:55.561044",
     "status": "completed"
    },
    "tags": []
   },
   "outputs": [],
   "source": [
    "# Carregar o VGG16\n",
    "\n",
    "device = torch.device(\"cuda\" if torch.cuda.is_available() else \"cpu\")\n",
    "\n",
    "vgg16 = models.vgg16().features.to(device)\n",
    "# vgg16 = models.vgg16(weights=models.VGG16_Weights.DEFAULT).features\n",
    "# vgg16 = models.vgg16().features\n",
    "\n",
    "vgg16_avgpool = torch.nn.AdaptiveAvgPool2d((1, 1))\n",
    "vgg16.eval()\n",
    "\n",
    "\n",
    "def extract_features(filename):\n",
    "    img = Image.open(filename).convert('RGB')\n",
    "    \n",
    "    transform = transforms.Compose([\n",
    "        transforms.ToTensor(),\n",
    "        transforms.Normalize(mean=[0.485, 0.456, 0.406], std=[0.229, 0.224, 0.225])\n",
    "    ])\n",
    "    \n",
    "    img_tensor = transform(img).to(device)\n",
    "    img_tensor = img_tensor.unsqueeze(0)\n",
    "    \n",
    "    with torch.no_grad():\n",
    "        features = vgg16(img_tensor)\n",
    "        features = vgg16_avgpool(features)\n",
    "        features = torch.flatten(features)\n",
    "        \n",
    "    return features.cpu().numpy()"
   ]
  },
  {
   "cell_type": "markdown",
   "id": "f7f55528",
   "metadata": {
    "papermill": {
     "duration": 0.003554,
     "end_time": "2023-12-06T13:47:00.418160",
     "exception": false,
     "start_time": "2023-12-06T13:47:00.414606",
     "status": "completed"
    },
    "tags": []
   },
   "source": [
    "#### Extraindo Caracteristicas"
   ]
  },
  {
   "cell_type": "code",
   "execution_count": 4,
   "id": "2212ca56",
   "metadata": {
    "_kg_hide-input": true,
    "_kg_hide-output": true,
    "execution": {
     "iopub.execute_input": "2023-12-06T13:47:00.426577Z",
     "iopub.status.busy": "2023-12-06T13:47:00.425905Z",
     "iopub.status.idle": "2023-12-06T13:48:55.012365Z",
     "shell.execute_reply": "2023-12-06T13:48:55.011332Z"
    },
    "papermill": {
     "duration": 114.596424,
     "end_time": "2023-12-06T13:48:55.017991",
     "exception": false,
     "start_time": "2023-12-06T13:47:00.421567",
     "status": "completed"
    },
    "scrolled": true,
    "tags": []
   },
   "outputs": [
    {
     "name": "stdout",
     "output_type": "stream",
     "text": [
      "Treino: (1165, 512) (1165,)\n",
      "Teste: (655, 512) (655,)\n"
     ]
    }
   ],
   "source": [
    "base = df.query(\"fold == 1\").query(\"mag == 400\")\n",
    "\n",
    "X_train, y_train, X_test, y_test = list(), list(), list(), list()\n",
    "\n",
    "for index, row in base.iterrows():    \n",
    "    features = extract_features(row[\"filename\"])\n",
    "    if row['grp'] == 'train':\n",
    "        X_train.append(features)\n",
    "        y_train.append(row[\"class\"])\n",
    "    else:\n",
    "        X_test.append(features)\n",
    "        y_test.append(row[\"class\"])\n",
    "#     if index%50 == 0: break\n",
    "\n",
    "X_train, y_train, X_test, y_test = np.array(X_train), np.array(y_train), np.array(X_test), np.array(y_test)\n",
    "\n",
    "print('Treino:', X_train.shape, y_train.shape)\n",
    "print('Teste:', X_test.shape, y_test.shape)"
   ]
  },
  {
   "cell_type": "markdown",
   "id": "6083c8d1",
   "metadata": {
    "papermill": {
     "duration": 0.003459,
     "end_time": "2023-12-06T13:48:55.025543",
     "exception": false,
     "start_time": "2023-12-06T13:48:55.022084",
     "status": "completed"
    },
    "tags": []
   },
   "source": [
    "#### Guardando X_train e X_test"
   ]
  },
  {
   "cell_type": "code",
   "execution_count": 5,
   "id": "95450032",
   "metadata": {
    "execution": {
     "iopub.execute_input": "2023-12-06T13:48:55.033974Z",
     "iopub.status.busy": "2023-12-06T13:48:55.033702Z",
     "iopub.status.idle": "2023-12-06T13:48:55.041819Z",
     "shell.execute_reply": "2023-12-06T13:48:55.040941Z"
    },
    "papermill": {
     "duration": 0.014563,
     "end_time": "2023-12-06T13:48:55.043622",
     "exception": false,
     "start_time": "2023-12-06T13:48:55.029059",
     "status": "completed"
    },
    "tags": []
   },
   "outputs": [],
   "source": [
    "np.save('./vgg_X_train.npy', X_train)\n",
    "np.save('./vgg_y_train.npy', y_train)\n",
    "np.save('./vgg_X_test.npy', X_test)\n",
    "np.save('./vgg_y_test.npy', y_test)"
   ]
  },
  {
   "cell_type": "markdown",
   "id": "1a7b76df",
   "metadata": {
    "papermill": {
     "duration": 0.003391,
     "end_time": "2023-12-06T13:48:55.050502",
     "exception": false,
     "start_time": "2023-12-06T13:48:55.047111",
     "status": "completed"
    },
    "tags": []
   },
   "source": [
    "## Teste Prévio"
   ]
  },
  {
   "cell_type": "code",
   "execution_count": 6,
   "id": "ab7909da",
   "metadata": {
    "execution": {
     "iopub.execute_input": "2023-12-06T13:48:55.058637Z",
     "iopub.status.busy": "2023-12-06T13:48:55.058337Z",
     "iopub.status.idle": "2023-12-06T13:48:56.233625Z",
     "shell.execute_reply": "2023-12-06T13:48:56.232694Z"
    },
    "papermill": {
     "duration": 1.181712,
     "end_time": "2023-12-06T13:48:56.235825",
     "exception": false,
     "start_time": "2023-12-06T13:48:55.054113",
     "status": "completed"
    },
    "tags": []
   },
   "outputs": [
    {
     "name": "stderr",
     "output_type": "stream",
     "text": [
      "/opt/conda/lib/python3.10/site-packages/scipy/__init__.py:146: UserWarning: A NumPy version >=1.16.5 and <1.23.0 is required for this version of SciPy (detected version 1.24.3\n",
      "  warnings.warn(f\"A NumPy version >={np_minversion} and <{np_maxversion}\"\n"
     ]
    },
    {
     "name": "stdout",
     "output_type": "stream",
     "text": [
      "              precision    recall  f1-score   support\n",
      "\n",
      "      benign       0.81      0.66      0.73       237\n",
      "   malignant       0.83      0.91      0.87       418\n",
      "\n",
      "    accuracy                           0.82       655\n",
      "   macro avg       0.82      0.79      0.80       655\n",
      "weighted avg       0.82      0.82      0.82       655\n",
      "\n"
     ]
    }
   ],
   "source": [
    "from sklearn.svm import SVC\n",
    "from sklearn.preprocessing import StandardScaler\n",
    "from sklearn.metrics import accuracy_score, classification_report\n",
    "\n",
    "# Normalizando\n",
    "ss = StandardScaler()\n",
    "ss.fit(X_train)\n",
    "\n",
    "X_train = ss.transform(X_train)\n",
    "X_test = ss.transform(X_test)\n",
    "\n",
    "# Testando com SVM\n",
    "clf = SVC()\n",
    "clf.fit(X_train, y_train)\n",
    "y_pred = clf.predict(X_test)\n",
    "\n",
    "print(classification_report(y_test, y_pred))"
   ]
  }
 ],
 "metadata": {
  "kaggle": {
   "accelerator": "nvidiaTeslaT4",
   "dataSources": [
    {
     "datasetId": 209316,
     "sourceId": 999617,
     "sourceType": "datasetVersion"
    }
   ],
   "dockerImageVersionId": 30587,
   "isGpuEnabled": true,
   "isInternetEnabled": true,
   "language": "python",
   "sourceType": "notebook"
  },
  "kernelspec": {
   "display_name": "Python 3",
   "language": "python",
   "name": "python3"
  },
  "language_info": {
   "codemirror_mode": {
    "name": "ipython",
    "version": 3
   },
   "file_extension": ".py",
   "mimetype": "text/x-python",
   "name": "python",
   "nbconvert_exporter": "python",
   "pygments_lexer": "ipython3",
   "version": "3.10.12"
  },
  "papermill": {
   "default_parameters": {},
   "duration": 130.073137,
   "end_time": "2023-12-06T13:48:57.861485",
   "environment_variables": {},
   "exception": null,
   "input_path": "__notebook__.ipynb",
   "output_path": "__notebook__.ipynb",
   "parameters": {},
   "start_time": "2023-12-06T13:46:47.788348",
   "version": "2.4.0"
  }
 },
 "nbformat": 4,
 "nbformat_minor": 5
}
