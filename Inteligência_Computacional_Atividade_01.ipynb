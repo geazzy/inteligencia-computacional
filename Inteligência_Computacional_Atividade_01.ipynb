{
  "nbformat": 4,
  "nbformat_minor": 0,
  "metadata": {
    "colab": {
      "provenance": []
    },
    "kernelspec": {
      "name": "python3",
      "display_name": "Python 3"
    },
    "language_info": {
      "name": "python"
    }
  },
  "cells": [
    {
      "cell_type": "markdown",
      "source": [
        "[Atividade 01](https://docs.google.com/document/d/1MS7VMELifmCachXZah9KDwy-fkmDWxFZJJIGkS0tYUY/edit)\n",
        "\n",
        "**Etapa A - Template Matching**\n",
        "\n",
        "1.   Baixe a base “four shapes”  [aqui](https://www.dropbox.com/scl/fi/csk3cor9zln3fc957mf77/fourShapes.tar.gz?rlkey=3v44mpdt0qtsne56fzwkwwr5r&dl=0).\n",
        "2.   Observe as diferenças e semelhanças entre as amostras das quatro classes ;\n",
        "3.   Utilizando o Pearson Correlation Coefficient e Erro Quadrático Médio demonstre que as imagens são mais similares entre a mesma classe e menos similares entre classes diferentes;\n",
        "    *   Escolha uma (1) imagem como “template” e três imagens da mesma classe como entradas ;\n",
        "    *   Calcule Pearson e Erro Quadrárico Médio entre elas;\n",
        "    *   Utilizando o mesmo “template”, selecione três imagens de cada uma das outras três classes. Repita o processo calculando o coeficiente de Pearson e Erro Quadrárico Médio entre elas;\n",
        "4.   Descreva se os os menores coeficientes são referentes as amostras da mesma classe ou de classes diferentes.\n",
        "5.   Descreva para cada uma das quatro classes, quais são as amostras mais similares.\n",
        "\n",
        "\n",
        "   \n",
        "\n"
      ],
      "metadata": {
        "id": "CxwTHxku_5rZ"
      }
    },
    {
      "cell_type": "code",
      "source": [
        "from pathlib import Path\n",
        "\n",
        "def get_files_recursive(dir_path_param):\n",
        "  dir = Path(dir_path_param)\n",
        "  files_dict = {}\n",
        "\n",
        "\n",
        "  for p in dir.iterdir():\n",
        "    if p.is_dir():\n",
        "      p_list = []\n",
        "      for f in p.iterdir():\n",
        "        if f.is_file():\n",
        "          p_list.append(f)\n",
        "          files_dict[p.name] = p_list\n",
        "  return files_dict\n",
        "\n",
        "figuras = get_files_recursive(\"/content/drive/MyDrive/Mestrado UTFPR/fourShapes/\")\n",
        "folhas = get_files_recursive(\"/content/drive/MyDrive/Mestrado UTFPR/folhas/\")\n",
        "\n",
        "for key, value in figuras.items():\n",
        "    print(f\"Key: {key}, len: {len(value)}, Value: {value}\")\n",
        "for key, value in folhas.items():\n",
        "    print(f\"Key: {key}, len: {len(value)}, Value: {value}\")\n"
      ],
      "metadata": {
        "colab": {
          "base_uri": "https://localhost:8080/"
        },
        "id": "V2VFHDEMdZI4",
        "outputId": "38d86a78-2414-412d-d902-740c857755df"
      },
      "execution_count": null,
      "outputs": [
        {
          "output_type": "stream",
          "name": "stdout",
          "text": [
            "Key: triangle, len: 10, Value: [PosixPath('/content/drive/MyDrive/Mestrado UTFPR/fourShapes/triangle/445.png'), PosixPath('/content/drive/MyDrive/Mestrado UTFPR/fourShapes/triangle/833.png'), PosixPath('/content/drive/MyDrive/Mestrado UTFPR/fourShapes/triangle/374.png'), PosixPath('/content/drive/MyDrive/Mestrado UTFPR/fourShapes/triangle/956.png'), PosixPath('/content/drive/MyDrive/Mestrado UTFPR/fourShapes/triangle/1131.png'), PosixPath('/content/drive/MyDrive/Mestrado UTFPR/fourShapes/triangle/270.png'), PosixPath('/content/drive/MyDrive/Mestrado UTFPR/fourShapes/triangle/616.png'), PosixPath('/content/drive/MyDrive/Mestrado UTFPR/fourShapes/triangle/180.png'), PosixPath('/content/drive/MyDrive/Mestrado UTFPR/fourShapes/triangle/1318.png'), PosixPath('/content/drive/MyDrive/Mestrado UTFPR/fourShapes/triangle/11.png')]\n",
            "Key: circle, len: 10, Value: [PosixPath('/content/drive/MyDrive/Mestrado UTFPR/fourShapes/circle/1187.png'), PosixPath('/content/drive/MyDrive/Mestrado UTFPR/fourShapes/circle/1387.png'), PosixPath('/content/drive/MyDrive/Mestrado UTFPR/fourShapes/circle/1541.png'), PosixPath('/content/drive/MyDrive/Mestrado UTFPR/fourShapes/circle/1721.png'), PosixPath('/content/drive/MyDrive/Mestrado UTFPR/fourShapes/circle/2661.png'), PosixPath('/content/drive/MyDrive/Mestrado UTFPR/fourShapes/circle/2351.png'), PosixPath('/content/drive/MyDrive/Mestrado UTFPR/fourShapes/circle/253.png'), PosixPath('/content/drive/MyDrive/Mestrado UTFPR/fourShapes/circle/985.png'), PosixPath('/content/drive/MyDrive/Mestrado UTFPR/fourShapes/circle/805.png'), PosixPath('/content/drive/MyDrive/Mestrado UTFPR/fourShapes/circle/5.png')]\n",
            "Key: star, len: 10, Value: [PosixPath('/content/drive/MyDrive/Mestrado UTFPR/fourShapes/star/1014.png'), PosixPath('/content/drive/MyDrive/Mestrado UTFPR/fourShapes/star/1179.png'), PosixPath('/content/drive/MyDrive/Mestrado UTFPR/fourShapes/star/511.png'), PosixPath('/content/drive/MyDrive/Mestrado UTFPR/fourShapes/star/2301.png'), PosixPath('/content/drive/MyDrive/Mestrado UTFPR/fourShapes/star/2088.png'), PosixPath('/content/drive/MyDrive/Mestrado UTFPR/fourShapes/star/1500.png'), PosixPath('/content/drive/MyDrive/Mestrado UTFPR/fourShapes/star/313.png'), PosixPath('/content/drive/MyDrive/Mestrado UTFPR/fourShapes/star/835.png'), PosixPath('/content/drive/MyDrive/Mestrado UTFPR/fourShapes/star/1642.png'), PosixPath('/content/drive/MyDrive/Mestrado UTFPR/fourShapes/star/3.png')]\n",
            "Key: square, len: 10, Value: [PosixPath('/content/drive/MyDrive/Mestrado UTFPR/fourShapes/square/1166.png'), PosixPath('/content/drive/MyDrive/Mestrado UTFPR/fourShapes/square/2097.png'), PosixPath('/content/drive/MyDrive/Mestrado UTFPR/fourShapes/square/487.png'), PosixPath('/content/drive/MyDrive/Mestrado UTFPR/fourShapes/square/847.png'), PosixPath('/content/drive/MyDrive/Mestrado UTFPR/fourShapes/square/57.png'), PosixPath('/content/drive/MyDrive/Mestrado UTFPR/fourShapes/square/2377.png'), PosixPath('/content/drive/MyDrive/Mestrado UTFPR/fourShapes/square/1824.png'), PosixPath('/content/drive/MyDrive/Mestrado UTFPR/fourShapes/square/1338.png'), PosixPath('/content/drive/MyDrive/Mestrado UTFPR/fourShapes/square/461.png'), PosixPath('/content/drive/MyDrive/Mestrado UTFPR/fourShapes/square/1558.png')]\n",
            "Key: Acer_Opalus, len: 5, Value: [PosixPath('/content/drive/MyDrive/Mestrado UTFPR/folhas/Acer_Opalus/1125.jpg'), PosixPath('/content/drive/MyDrive/Mestrado UTFPR/folhas/Acer_Opalus/906.jpg'), PosixPath('/content/drive/MyDrive/Mestrado UTFPR/folhas/Acer_Opalus/317.jpg'), PosixPath('/content/drive/MyDrive/Mestrado UTFPR/folhas/Acer_Opalus/1002.jpg'), PosixPath('/content/drive/MyDrive/Mestrado UTFPR/folhas/Acer_Opalus/1.jpg')]\n",
            "Key: Acer_Mono, len: 5, Value: [PosixPath('/content/drive/MyDrive/Mestrado UTFPR/folhas/Acer_Mono/288.jpg'), PosixPath('/content/drive/MyDrive/Mestrado UTFPR/folhas/Acer_Mono/499.jpg'), PosixPath('/content/drive/MyDrive/Mestrado UTFPR/folhas/Acer_Mono/807.jpg'), PosixPath('/content/drive/MyDrive/Mestrado UTFPR/folhas/Acer_Mono/489.jpg'), PosixPath('/content/drive/MyDrive/Mestrado UTFPR/folhas/Acer_Mono/216.jpg')]\n",
            "Key: Acer_Capillipes, len: 5, Value: [PosixPath('/content/drive/MyDrive/Mestrado UTFPR/folhas/Acer_Capillipes/569.jpg'), PosixPath('/content/drive/MyDrive/Mestrado UTFPR/folhas/Acer_Capillipes/610.jpg'), PosixPath('/content/drive/MyDrive/Mestrado UTFPR/folhas/Acer_Capillipes/498.jpg'), PosixPath('/content/drive/MyDrive/Mestrado UTFPR/folhas/Acer_Capillipes/201.jpg'), PosixPath('/content/drive/MyDrive/Mestrado UTFPR/folhas/Acer_Capillipes/227.jpg')]\n"
          ]
        }
      ]
    },
    {
      "cell_type": "code",
      "source": [
        "import numpy as np\n",
        "from scipy.stats import pearsonr\n",
        "from PIL import Image #https://github.com/python-pillow/Pillow\n",
        "from sklearn.metrics import mean_squared_error\n",
        "\n",
        "def pearson_correlation(image1, image2):\n",
        "    # Carregar as imagens como arrays NumPy\n",
        "    img1_array = np.array(image1)\n",
        "    img2_array = np.array(image2)\n",
        "\n",
        "    # Transformar as matrizes 2D das imagens em vetores 1D\n",
        "    img1_vector = img1_array.flatten()\n",
        "    img2_vector = img2_array.flatten()\n",
        "\n",
        "    # Calcular o coeficiente de correlação de Pearson\n",
        "    correlation = pearsonr(img1_vector, img2_vector)\n",
        "\n",
        "    return correlation.statistic\n",
        "\n",
        "def mse(image1, image2):\n",
        "\n",
        "    img1_array = np.array(image1)\n",
        "    img2_array = np.array(image2)\n",
        "\n",
        "    img1_vector = img1_array.flatten()\n",
        "    img2_vector = img2_array.flatten()\n",
        "\n",
        "    mse = mean_squared_error(img1_vector, img2_vector)\n",
        "\n",
        "    return mse"
      ],
      "metadata": {
        "id": "0aHcLeL-8CqW"
      },
      "execution_count": null,
      "outputs": []
    },
    {
      "cell_type": "code",
      "source": [
        "import random\n",
        "\n",
        "for key in figuras.keys():\n",
        "  correlations = {}\n",
        "  mse_results = {}\n",
        "  c_list = []\n",
        "  m_list = []\n",
        "\n",
        "  figuras_classe = figuras[key]\n",
        "  template_indice = random.randint(0, 9)\n",
        "  intervalo = list(range(0, 9))\n",
        "  intervalo.remove(template_indice)\n",
        "  conjunto_indices = random.sample(intervalo, 3)\n",
        "\n",
        "\n",
        "  print(f\"classe {key}, template {template_indice} {figuras_classe[template_indice]}\")\n",
        "  template_img = Image.open(figuras_classe[template_indice])\n",
        "\n",
        "  for i in conjunto_indices:\n",
        "    c_result = {}\n",
        "    m_result = {}\n",
        "\n",
        "    image = Image.open(figuras_classe[i])\n",
        "    correlation = pearson_correlation(template_img, image)\n",
        "    mse_r = mse(template_img, image)\n",
        "    c_result[figuras_classe[i]] = correlation\n",
        "    m_result[figuras_classe[i]] = mse_r\n",
        "    c_list.append(c_result)\n",
        "    m_list.append(m_result)\n",
        "    correlations.update({key : c_list})\n",
        "    mse_results.update({key : m_list})\n",
        "\n",
        "  sorted_correlations = sorted(correlations.items(), key=lambda x:x[1], reverse=True)\n",
        "  sorted_mse_results = sorted(mse_results.items(), key=lambda x:x[1])\n",
        "  print(\"pearson\")\n",
        "  for i in sorted_correlations:\n",
        "    print(i)\n",
        "\n",
        "  print(\"MSE\")\n",
        "  for i in sorted_mse_results:\n",
        "    print(i)"
      ],
      "metadata": {
        "colab": {
          "base_uri": "https://localhost:8080/"
        },
        "id": "uQb4px3ehyzM",
        "outputId": "f1d220b4-f2fd-45c9-bb0e-6bdb2f671bc9"
      },
      "execution_count": null,
      "outputs": [
        {
          "output_type": "stream",
          "name": "stdout",
          "text": [
            "classe triangle, template 8 /content/drive/MyDrive/Mestrado UTFPR/fourShapes/triangle/1318.png\n",
            "pearson\n",
            "('triangle', [{PosixPath('/content/drive/MyDrive/Mestrado UTFPR/fourShapes/triangle/1131.png'): 0.597494926163793}, {PosixPath('/content/drive/MyDrive/Mestrado UTFPR/fourShapes/triangle/180.png'): 0.7197331059332277}, {PosixPath('/content/drive/MyDrive/Mestrado UTFPR/fourShapes/triangle/445.png'): 0.6130465337458473}])\n",
            "MSE\n",
            "('triangle', [{PosixPath('/content/drive/MyDrive/Mestrado UTFPR/fourShapes/triangle/1131.png'): 2.04695}, {PosixPath('/content/drive/MyDrive/Mestrado UTFPR/fourShapes/triangle/180.png'): 1.68855}, {PosixPath('/content/drive/MyDrive/Mestrado UTFPR/fourShapes/triangle/445.png'): 2.09905}])\n",
            "classe circle, template 1 /content/drive/MyDrive/Mestrado UTFPR/fourShapes/circle/1387.png\n",
            "pearson\n",
            "('circle', [{PosixPath('/content/drive/MyDrive/Mestrado UTFPR/fourShapes/circle/1187.png'): 0.9469992018054305}, {PosixPath('/content/drive/MyDrive/Mestrado UTFPR/fourShapes/circle/253.png'): 0.9803025832299455}, {PosixPath('/content/drive/MyDrive/Mestrado UTFPR/fourShapes/circle/1541.png'): 0.955889672477302}])\n",
            "MSE\n",
            "('circle', [{PosixPath('/content/drive/MyDrive/Mestrado UTFPR/fourShapes/circle/1187.png'): 2.3264}, {PosixPath('/content/drive/MyDrive/Mestrado UTFPR/fourShapes/circle/253.png'): 2.134}, {PosixPath('/content/drive/MyDrive/Mestrado UTFPR/fourShapes/circle/1541.png'): 1.9635}])\n",
            "classe star, template 3 /content/drive/MyDrive/Mestrado UTFPR/fourShapes/star/2301.png\n",
            "pearson\n",
            "('star', [{PosixPath('/content/drive/MyDrive/Mestrado UTFPR/fourShapes/star/1014.png'): 0.5115360595628666}, {PosixPath('/content/drive/MyDrive/Mestrado UTFPR/fourShapes/star/511.png'): 0.6327557548470728}, {PosixPath('/content/drive/MyDrive/Mestrado UTFPR/fourShapes/star/1500.png'): 0.6959076121942342}])\n",
            "MSE\n",
            "('star', [{PosixPath('/content/drive/MyDrive/Mestrado UTFPR/fourShapes/star/1014.png'): 2.361275}, {PosixPath('/content/drive/MyDrive/Mestrado UTFPR/fourShapes/star/511.png'): 2.180125}, {PosixPath('/content/drive/MyDrive/Mestrado UTFPR/fourShapes/star/1500.png'): 2.23265}])\n",
            "classe square, template 6 /content/drive/MyDrive/Mestrado UTFPR/fourShapes/square/1824.png\n",
            "pearson\n",
            "('square', [{PosixPath('/content/drive/MyDrive/Mestrado UTFPR/fourShapes/square/2377.png'): 0.8102851172878722}, {PosixPath('/content/drive/MyDrive/Mestrado UTFPR/fourShapes/square/2097.png'): 0.7733450041707701}, {PosixPath('/content/drive/MyDrive/Mestrado UTFPR/fourShapes/square/1166.png'): 0.8043420307748367}])\n",
            "MSE\n",
            "('square', [{PosixPath('/content/drive/MyDrive/Mestrado UTFPR/fourShapes/square/2377.png'): 1.792375}, {PosixPath('/content/drive/MyDrive/Mestrado UTFPR/fourShapes/square/2097.png'): 1.8087}, {PosixPath('/content/drive/MyDrive/Mestrado UTFPR/fourShapes/square/1166.png'): 2.161625}])\n"
          ]
        }
      ]
    },
    {
      "cell_type": "code",
      "source": [
        "figura1 = Image.open(figuras[0])\n",
        "correlations = {}\n",
        "mse_results = {}\n",
        "\n",
        "for figura in figuras:\n",
        "  figura2 = Image.open(figura)\n",
        "  correlation = pearson_correlation(figura1, figura2)\n",
        "  mse_r = mse(figura1,figura2)\n",
        "  correlations.update({figura : correlation})\n",
        "  mse_results.update({figura : mse_r})\n",
        "  #print(correlation)\n",
        "\n",
        "sorted_correlations = sorted(correlations.items(), key=lambda x:x[1], reverse=True)\n",
        "sorted_mse_results = sorted(mse_results.items(), key=lambda x:x[1])\n",
        "\n",
        "print(\"pearson\")\n",
        "for i in sorted_correlations:\n",
        "  print(i)\n",
        "#print(sorted_correlations)\n",
        "\n",
        "print(\"MSE\")\n",
        "for i in sorted_mse_results:\n",
        "  print(i)"
      ],
      "metadata": {
        "colab": {
          "base_uri": "https://localhost:8080/",
          "height": 250
        },
        "id": "RbPTy8LK8I67",
        "outputId": "c32aa2b9-d276-410c-9fe5-f9276f3db6a1"
      },
      "execution_count": null,
      "outputs": [
        {
          "output_type": "error",
          "ename": "KeyError",
          "evalue": "ignored",
          "traceback": [
            "\u001b[0;31m---------------------------------------------------------------------------\u001b[0m",
            "\u001b[0;31mKeyError\u001b[0m                                  Traceback (most recent call last)",
            "\u001b[0;32m<ipython-input-40-7c3daa1a32a0>\u001b[0m in \u001b[0;36m<cell line: 1>\u001b[0;34m()\u001b[0m\n\u001b[0;32m----> 1\u001b[0;31m \u001b[0mfigura1\u001b[0m \u001b[0;34m=\u001b[0m \u001b[0mImage\u001b[0m\u001b[0;34m.\u001b[0m\u001b[0mopen\u001b[0m\u001b[0;34m(\u001b[0m\u001b[0mfiguras\u001b[0m\u001b[0;34m[\u001b[0m\u001b[0;36m0\u001b[0m\u001b[0;34m]\u001b[0m\u001b[0;34m)\u001b[0m\u001b[0;34m\u001b[0m\u001b[0;34m\u001b[0m\u001b[0m\n\u001b[0m\u001b[1;32m      2\u001b[0m \u001b[0mcorrelations\u001b[0m \u001b[0;34m=\u001b[0m \u001b[0;34m{\u001b[0m\u001b[0;34m}\u001b[0m\u001b[0;34m\u001b[0m\u001b[0;34m\u001b[0m\u001b[0m\n\u001b[1;32m      3\u001b[0m \u001b[0mmse_results\u001b[0m \u001b[0;34m=\u001b[0m \u001b[0;34m{\u001b[0m\u001b[0;34m}\u001b[0m\u001b[0;34m\u001b[0m\u001b[0;34m\u001b[0m\u001b[0m\n\u001b[1;32m      4\u001b[0m \u001b[0;34m\u001b[0m\u001b[0m\n\u001b[1;32m      5\u001b[0m \u001b[0;32mfor\u001b[0m \u001b[0mfigura\u001b[0m \u001b[0;32min\u001b[0m \u001b[0mfiguras\u001b[0m\u001b[0;34m:\u001b[0m\u001b[0;34m\u001b[0m\u001b[0;34m\u001b[0m\u001b[0m\n",
            "\u001b[0;31mKeyError\u001b[0m: 0"
          ]
        }
      ]
    },
    {
      "cell_type": "markdown",
      "source": [
        "**Etapa B: Template Matching**\n",
        "\n",
        "1.   Refaça os experimentos da Etapa A usando a base de folhas ([download](https://www.dropbox.com/s/fmbq1bpay5joaax/Folhas.zip?dl=0)) ;\n",
        "2.   Selecione 3 imagens aleatórias de cada uma das 3 classes ;\n",
        "3.   Utilizando o Pearson Correlation Coefficient e Erro Quadrático Médio demonstre que as imagens são mais similares entre a mesma classe e menos similares entre classes diferentes ;\n",
        "  *   Escolha uma imagem como “template” e três imagens da mesma classe como entradas;\n",
        "  *   Calcule Pearson E Erro Quadrárico Médio entre elas ;\n",
        "4.  Utilizando o mesmo “template” e três imagens de cada uma das outras três classes. Repita o processo calculando o coeficiente de Pearson e Erro Quadrárico Médio entre elas ;\n"
      ],
      "metadata": {
        "id": "4CddJAMuUOkN"
      }
    }
  ]
}