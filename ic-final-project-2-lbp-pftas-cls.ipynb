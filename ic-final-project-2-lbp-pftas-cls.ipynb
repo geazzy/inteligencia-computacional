{
 "cells": [
  {
   "cell_type": "code",
   "execution_count": 1,
   "id": "c7d5e557",
   "metadata": {
    "execution": {
     "iopub.execute_input": "2023-12-07T17:27:25.942948Z",
     "iopub.status.busy": "2023-12-07T17:27:25.942116Z",
     "iopub.status.idle": "2023-12-07T17:27:42.382391Z",
     "shell.execute_reply": "2023-12-07T17:27:42.381125Z"
    },
    "papermill": {
     "duration": 16.451693,
     "end_time": "2023-12-07T17:27:42.385450",
     "exception": false,
     "start_time": "2023-12-07T17:27:25.933757",
     "status": "completed"
    },
    "tags": []
   },
   "outputs": [
    {
     "name": "stdout",
     "output_type": "stream",
     "text": [
      "Collecting mahotas\r\n",
      "  Downloading mahotas-1.4.13-cp310-cp310-manylinux_2_17_x86_64.manylinux2014_x86_64.whl (5.4 MB)\r\n",
      "\u001b[2K     \u001b[90m━━━━━━━━━━━━━━━━━━━━━━━━━━━━━━━━━━━━━━━━\u001b[0m \u001b[32m5.4/5.4 MB\u001b[0m \u001b[31m38.6 MB/s\u001b[0m eta \u001b[36m0:00:00\u001b[0m\r\n",
      "\u001b[?25hRequirement already satisfied: numpy in /opt/conda/lib/python3.10/site-packages (from mahotas) (1.24.3)\r\n",
      "Installing collected packages: mahotas\r\n",
      "Successfully installed mahotas-1.4.13\r\n"
     ]
    }
   ],
   "source": [
    "!pip install mahotas"
   ]
  },
  {
   "cell_type": "code",
   "execution_count": 2,
   "id": "84ed4e2a",
   "metadata": {
    "_cell_guid": "b1076dfc-b9ad-4769-8c92-a6c4dae69d19",
    "_uuid": "8f2839f25d086af736a60e9eeb907d3b93b6e0e5",
    "execution": {
     "iopub.execute_input": "2023-12-07T17:27:42.400967Z",
     "iopub.status.busy": "2023-12-07T17:27:42.399619Z",
     "iopub.status.idle": "2023-12-07T17:27:45.743680Z",
     "shell.execute_reply": "2023-12-07T17:27:45.741962Z"
    },
    "papermill": {
     "duration": 3.356139,
     "end_time": "2023-12-07T17:27:45.747889",
     "exception": false,
     "start_time": "2023-12-07T17:27:42.391750",
     "status": "completed"
    },
    "tags": []
   },
   "outputs": [],
   "source": [
    "import pandas as pd\n",
    "import cv2\n",
    "from skimage import feature\n",
    "import numpy as np\n",
    "from sklearn.svm import SVC\n",
    "from sklearn.preprocessing import StandardScaler\n",
    "from sklearn.metrics import accuracy_score, classification_report, confusion_matrix\n",
    "import mahotas #to user pftas"
   ]
  },
  {
   "cell_type": "code",
   "execution_count": 3,
   "id": "dc1ef0a2",
   "metadata": {
    "execution": {
     "iopub.execute_input": "2023-12-07T17:27:45.763758Z",
     "iopub.status.busy": "2023-12-07T17:27:45.763072Z",
     "iopub.status.idle": "2023-12-07T17:27:45.771796Z",
     "shell.execute_reply": "2023-12-07T17:27:45.770860Z"
    },
    "papermill": {
     "duration": 0.019056,
     "end_time": "2023-12-07T17:27:45.773985",
     "exception": false,
     "start_time": "2023-12-07T17:27:45.754929",
     "status": "completed"
    },
    "tags": []
   },
   "outputs": [],
   "source": [
    "class LocalBinaryPatterns:\n",
    "    \n",
    "    def __init__(self, numPoints, radius):\n",
    "        self.numPoints = numPoints\n",
    "        self.radius = radius\n",
    "        \n",
    "    def describe(self, image):\n",
    "        \n",
    "        img_gray = cv2.cvtColor(image, cv2.COLOR_BGR2GRAY)\n",
    "        lbp = feature.local_binary_pattern(img_gray, self.numPoints,\n",
    "                                           self.radius, method=\"uniform\")\n",
    "        \n",
    "        n_bins = int(lbp.max() + 1)\n",
    "        (hist, _) = np.histogram(lbp.ravel(),\n",
    "                                 bins=n_bins,\n",
    "                                 range=(0, n_bins))\n",
    "        return hist"
   ]
  },
  {
   "cell_type": "code",
   "execution_count": 4,
   "id": "b5479d34",
   "metadata": {
    "execution": {
     "iopub.execute_input": "2023-12-07T17:27:45.788754Z",
     "iopub.status.busy": "2023-12-07T17:27:45.787763Z",
     "iopub.status.idle": "2023-12-07T17:27:45.792814Z",
     "shell.execute_reply": "2023-12-07T17:27:45.792003Z"
    },
    "papermill": {
     "duration": 0.014925,
     "end_time": "2023-12-07T17:27:45.795125",
     "exception": false,
     "start_time": "2023-12-07T17:27:45.780200",
     "status": "completed"
    },
    "tags": []
   },
   "outputs": [],
   "source": [
    "class Pftas:\n",
    "    \n",
    "    def describe(self, img):\n",
    "        #cv2.imread(img_path, cv2.IMREAD_COLOR)\n",
    "        return mahotas.features.tas(img)"
   ]
  },
  {
   "cell_type": "code",
   "execution_count": 5,
   "id": "1ab27886",
   "metadata": {
    "execution": {
     "iopub.execute_input": "2023-12-07T17:27:45.810008Z",
     "iopub.status.busy": "2023-12-07T17:27:45.809557Z",
     "iopub.status.idle": "2023-12-07T17:27:45.821590Z",
     "shell.execute_reply": "2023-12-07T17:27:45.820601Z"
    },
    "papermill": {
     "duration": 0.022456,
     "end_time": "2023-12-07T17:27:45.824003",
     "exception": false,
     "start_time": "2023-12-07T17:27:45.801547",
     "status": "completed"
    },
    "tags": []
   },
   "outputs": [],
   "source": [
    "class LBPDataset():\n",
    "    def __init__(self, df):\n",
    "        self.df = df\n",
    "        self.lbp = LocalBinaryPatterns(numPoints=8, radius=2)\n",
    "        self.pftas = Pftas()\n",
    "        \n",
    "\n",
    "    def __len__(self):\n",
    "        return len(self.df)\n",
    "    \n",
    "    def get_image(self, img_path):\n",
    "        img = cv2.imread(img_path, cv2.IMREAD_COLOR)\n",
    "\n",
    "        if img.shape != (460, 700, 3):\n",
    "            img = cv2.resize(img, (460, 700))\n",
    "        return img\n",
    "    \n",
    "    def get_pftas(self, idx):\n",
    "        img = self.get_image(self.df.iloc[idx][\"path\"])\n",
    "        pftas_features =  self.pftas.describe(img)\n",
    "        \n",
    "        label = str(self.df.iloc[idx][\"class\"])\n",
    "        return np.array(pftas_features, dtype=np.float32), label\n",
    "\n",
    "    def get_lbp(self, idx):\n",
    "        img = self.get_image(self.df.iloc[idx][\"path\"])\n",
    "        lbp_features = self.lbp.describe(img)\n",
    "\n",
    "        label = str(self.df.iloc[idx][\"class\"])\n",
    "        return np.array(lbp_features, dtype=np.float32), label\n"
   ]
  },
  {
   "cell_type": "code",
   "execution_count": 6,
   "id": "2b23ee8f",
   "metadata": {
    "execution": {
     "iopub.execute_input": "2023-12-07T17:27:45.839037Z",
     "iopub.status.busy": "2023-12-07T17:27:45.838194Z",
     "iopub.status.idle": "2023-12-07T17:27:45.846567Z",
     "shell.execute_reply": "2023-12-07T17:27:45.845554Z"
    },
    "papermill": {
     "duration": 0.01847,
     "end_time": "2023-12-07T17:27:45.849000",
     "exception": false,
     "start_time": "2023-12-07T17:27:45.830530",
     "status": "completed"
    },
    "tags": []
   },
   "outputs": [],
   "source": [
    "class SVMClassifier:\n",
    "    def __init__(self, C=1.0, kernel='rbf', gamma='scale', coef0=0):\n",
    "        self.C = C\n",
    "        self.kernel = kernel\n",
    "        self.gamma = gamma\n",
    "        self.coef0 = coef0\n",
    "        self.clf = SVC(C=self.C, kernel=self.kernel, gamma=self.gamma, coef0=self.coef0)\n",
    "\n",
    "    def train(self, X_train, y_train):\n",
    "        self.clf.fit(X_train, y_train)\n",
    "\n",
    "    def predict(self, X_test):\n",
    "        return self.clf.predict(X_test)\n",
    "\n",
    "    def evaluate(self, X_test, y_test):\n",
    "        y_pred = self.predict(X_test)\n",
    "        print(\"Classification Report:\")\n",
    "        print(classification_report(y_test, y_pred))"
   ]
  },
  {
   "cell_type": "code",
   "execution_count": 7,
   "id": "419e24dc",
   "metadata": {
    "execution": {
     "iopub.execute_input": "2023-12-07T17:27:45.863238Z",
     "iopub.status.busy": "2023-12-07T17:27:45.862426Z",
     "iopub.status.idle": "2023-12-07T17:27:45.870598Z",
     "shell.execute_reply": "2023-12-07T17:27:45.869217Z"
    },
    "papermill": {
     "duration": 0.018776,
     "end_time": "2023-12-07T17:27:45.873517",
     "exception": false,
     "start_time": "2023-12-07T17:27:45.854741",
     "status": "completed"
    },
    "tags": []
   },
   "outputs": [],
   "source": [
    "# Função para pré-processar os dados\n",
    "def preprocess_data(df):\n",
    "    df.rename(columns={\"filename\": \"path\"}, inplace=True)\n",
    "    # Divida a coluna 'path' uma vez\n",
    "    split_path = df[\"path\"].str.split('/')\n",
    "    df[\"filename\"] = split_path.str[8]\n",
    "    df[\"class\"] = split_path.str[3]  # string\n",
    "    df[\"slide_id\"] = split_path.str[8].str.split(\"-\").str[2]\n",
    "    df[\"tumor_type\"] = split_path.str[8].str.split(\"-\").str[0].str.split(\"_\").str[2]\n",
    "    df[\"path\"] = '/kaggle/input/breakhis/BreaKHis_v1/' + df[\"path\"]\n",
    "    return df"
   ]
  },
  {
   "cell_type": "code",
   "execution_count": 8,
   "id": "59628b93",
   "metadata": {
    "_kg_hide-output": false,
    "execution": {
     "iopub.execute_input": "2023-12-07T17:27:45.887796Z",
     "iopub.status.busy": "2023-12-07T17:27:45.887291Z",
     "iopub.status.idle": "2023-12-07T17:27:46.703492Z",
     "shell.execute_reply": "2023-12-07T17:27:46.702476Z"
    },
    "papermill": {
     "duration": 0.826696,
     "end_time": "2023-12-07T17:27:46.706117",
     "exception": false,
     "start_time": "2023-12-07T17:27:45.879421",
     "status": "completed"
    },
    "tags": []
   },
   "outputs": [],
   "source": [
    "\n",
    "df = preprocess_data(pd.read_csv('/kaggle/input/breakhis/Folds.csv'))\n",
    "df_train = df.query(\"fold == 1\").query(\"mag == 40\").query(\"grp == 'train'\")\n",
    "df_test = df.query(\"fold == 1\").query(\"mag == 40\").query(\"grp == 'test'\")\n",
    "train_dataset = LBPDataset(df_train)\n",
    "test_dataset = LBPDataset(df_test)\n",
    "\n"
   ]
  },
  {
   "cell_type": "code",
   "execution_count": 9,
   "id": "9de66df7",
   "metadata": {
    "execution": {
     "iopub.execute_input": "2023-12-07T17:27:46.720167Z",
     "iopub.status.busy": "2023-12-07T17:27:46.719664Z",
     "iopub.status.idle": "2023-12-07T17:30:43.570950Z",
     "shell.execute_reply": "2023-12-07T17:30:43.569394Z"
    },
    "papermill": {
     "duration": 176.862369,
     "end_time": "2023-12-07T17:30:43.574367",
     "exception": false,
     "start_time": "2023-12-07T17:27:46.711998",
     "status": "completed"
    },
    "tags": []
   },
   "outputs": [],
   "source": [
    "#list comprehensions para criar as listas de características e rótulos\n",
    "features_lbp_train, label_lbp_train = zip(*(train_dataset.get_lbp(idx) for idx in range(len(train_dataset))))\n",
    "features_lbp_test, label_lbp_test = zip(*(test_dataset.get_lbp(idx) for idx in range(len(test_dataset))))"
   ]
  },
  {
   "cell_type": "code",
   "execution_count": 10,
   "id": "7f5b7528",
   "metadata": {
    "execution": {
     "iopub.execute_input": "2023-12-07T17:30:43.589980Z",
     "iopub.status.busy": "2023-12-07T17:30:43.589482Z",
     "iopub.status.idle": "2023-12-07T17:30:43.703127Z",
     "shell.execute_reply": "2023-12-07T17:30:43.701925Z"
    },
    "papermill": {
     "duration": 0.124995,
     "end_time": "2023-12-07T17:30:43.706076",
     "exception": false,
     "start_time": "2023-12-07T17:30:43.581081",
     "status": "completed"
    },
    "tags": []
   },
   "outputs": [
    {
     "name": "stdout",
     "output_type": "stream",
     "text": [
      "Classification Report:\n",
      "              precision    recall  f1-score   support\n",
      "\n",
      "      benign       0.71      0.23      0.35       255\n",
      "   malignant       0.70      0.95      0.81       490\n",
      "\n",
      "    accuracy                           0.70       745\n",
      "   macro avg       0.71      0.59      0.58       745\n",
      "weighted avg       0.71      0.70      0.65       745\n",
      "\n"
     ]
    }
   ],
   "source": [
    "#lbp\n",
    "ss = StandardScaler()\n",
    "X_train = ss.fit_transform(features_lbp_train)\n",
    "X_test = ss.transform(features_lbp_test)\n",
    "\n",
    "\n",
    "\n",
    "svm_classifier = SVMClassifier()\n",
    "svm_classifier.train(X_train, label_lbp_train)\n",
    "svm_classifier.evaluate(X_test, label_lbp_test)"
   ]
  },
  {
   "cell_type": "code",
   "execution_count": 11,
   "id": "0d06410a",
   "metadata": {
    "execution": {
     "iopub.execute_input": "2023-12-07T17:30:43.720840Z",
     "iopub.status.busy": "2023-12-07T17:30:43.720392Z",
     "iopub.status.idle": "2023-12-07T17:44:12.821552Z",
     "shell.execute_reply": "2023-12-07T17:44:12.820186Z"
    },
    "papermill": {
     "duration": 809.112358,
     "end_time": "2023-12-07T17:44:12.824920",
     "exception": false,
     "start_time": "2023-12-07T17:30:43.712562",
     "status": "completed"
    },
    "tags": []
   },
   "outputs": [],
   "source": [
    "#list comprehensions para criar as listas de características e rótulos\n",
    "features_pftas_train, label_lbp_train = zip(*(train_dataset.get_pftas(idx) for idx in range(len(train_dataset))))\n",
    "features_pftas_test, label_pftas_test = zip(*(test_dataset.get_pftas(idx) for idx in range(len(test_dataset))))"
   ]
  },
  {
   "cell_type": "code",
   "execution_count": 12,
   "id": "3b11d2f1",
   "metadata": {
    "execution": {
     "iopub.execute_input": "2023-12-07T17:44:12.840377Z",
     "iopub.status.busy": "2023-12-07T17:44:12.839940Z",
     "iopub.status.idle": "2023-12-07T17:44:13.005083Z",
     "shell.execute_reply": "2023-12-07T17:44:13.003906Z"
    },
    "papermill": {
     "duration": 0.175622,
     "end_time": "2023-12-07T17:44:13.007599",
     "exception": false,
     "start_time": "2023-12-07T17:44:12.831977",
     "status": "completed"
    },
    "tags": []
   },
   "outputs": [
    {
     "name": "stdout",
     "output_type": "stream",
     "text": [
      "Classification Report:\n",
      "              precision    recall  f1-score   support\n",
      "\n",
      "      benign       0.89      0.64      0.74       255\n",
      "   malignant       0.83      0.96      0.89       490\n",
      "\n",
      "    accuracy                           0.85       745\n",
      "   macro avg       0.86      0.80      0.82       745\n",
      "weighted avg       0.85      0.85      0.84       745\n",
      "\n"
     ]
    }
   ],
   "source": [
    "#pftas\n",
    "ss = StandardScaler()\n",
    "X_train = ss.fit_transform(features_pftas_train)\n",
    "X_test = ss.transform(features_pftas_test)\n",
    "\n",
    "\n",
    "\n",
    "svm_classifier = SVMClassifier()\n",
    "svm_classifier.train(X_train, label_lbp_train)\n",
    "svm_classifier.evaluate(X_test, label_pftas_test)"
   ]
  }
 ],
 "metadata": {
  "kaggle": {
   "accelerator": "none",
   "dataSources": [
    {
     "datasetId": 209316,
     "sourceId": 999617,
     "sourceType": "datasetVersion"
    }
   ],
   "dockerImageVersionId": 30587,
   "isGpuEnabled": false,
   "isInternetEnabled": true,
   "language": "python",
   "sourceType": "notebook"
  },
  "kernelspec": {
   "display_name": "Python 3",
   "language": "python",
   "name": "python3"
  },
  "language_info": {
   "codemirror_mode": {
    "name": "ipython",
    "version": 3
   },
   "file_extension": ".py",
   "mimetype": "text/x-python",
   "name": "python",
   "nbconvert_exporter": "python",
   "pygments_lexer": "ipython3",
   "version": "3.10.12"
  },
  "papermill": {
   "default_parameters": {},
   "duration": 1011.958794,
   "end_time": "2023-12-07T17:44:13.943081",
   "environment_variables": {},
   "exception": null,
   "input_path": "__notebook__.ipynb",
   "output_path": "__notebook__.ipynb",
   "parameters": {},
   "start_time": "2023-12-07T17:27:21.984287",
   "version": "2.4.0"
  }
 },
 "nbformat": 4,
 "nbformat_minor": 5
}
