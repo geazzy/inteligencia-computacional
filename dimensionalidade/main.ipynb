{
 "cells": [
  {
   "cell_type": "code",
   "execution_count": null,
   "metadata": {},
   "outputs": [],
   "source": [
    "import numpy as np\n",
    "from sklearn import svm\n",
    "from sklearn.neighbors import KNeighborsClassifier\n",
    "from sklearn.metrics import classification_report\n",
    "from sklearn.neural_network import MLPClassifier\n",
    "from sklearn.svm import SVC\n",
    "from sklearn.preprocessing import StandardScaler\n",
    "from sklearn.pipeline import Pipeline\n",
    "from sklearn.model_selection import GridSearchCV, train_test_split\n",
    "from sklearn.ensemble import RandomForestClassifier\n",
    "from sklearn.datasets import make_classification\n",
    "from sklearn import tree"
   ]
  },
  {
   "cell_type": "code",
   "execution_count": null,
   "metadata": {},
   "outputs": [],
   "source": [
    "# load data\n",
    "#tr = np.loadtxt(dataTr) ;\n",
    "#ts = np.loadtxt(dataTs) ;\n",
    "tr = np.loadtxt('treino_baseIAM_301_Filter_1x1_new2.txt') ;\n",
    "ts = np.loadtxt('teste_baseIAM_301_Filter_1x1_new2.txt');\n",
    "y_test  = ts[:, -1]\n",
    "y_train = tr[:, -1]\n",
    "X_train = tr[:, 1 : -1]\n",
    "X_test  = ts[:, 1 : -1]\n",
    "\n",
    "# Normaliza os dados...\n",
    "scaler = StandardScaler()\n",
    "X_train = scaler.fit_transform(X_train)\n",
    "X_test = scaler.fit_transform(X_test)"
   ]
  },
  {
   "cell_type": "code",
   "execution_count": null,
   "metadata": {},
   "outputs": [],
   "source": [
    " # k-NN classifier\n",
    "#from sklearn.metrics import classification_report\n",
    "neigh = KNeighborsClassifier(n_neighbors=1, metric='euclidean')\n",
    "neigh.fit(X_train, y_train)\n",
    "#neigh.score(X_test, y_test)\n",
    "print(classification_report(y_test, neigh.predict(X_test)))"
   ]
  },
  {
   "cell_type": "code",
   "execution_count": null,
   "metadata": {},
   "outputs": [],
   "source": [
    "###SVM com Grid search\n",
    "C_range = 2. ** np.arange(-5,15,2)\n",
    "gamma_range = 2. ** np.arange(3,-15,-2)\n",
    "#k = [ 'rbf']\n",
    "# instancia o classificador, gerando probabilidades\n",
    "srv = svm.SVC(probability=True, kernel='rbf')\n",
    "#ss = StandardScaler()\n",
    "pipeline = Pipeline([ ('scaler', scaler), ('svm', srv) ])\n",
    "\n",
    "param_grid = {\n",
    "    'svm__C' : C_range,\n",
    "    'svm__gamma' : gamma_range\n",
    "}\n",
    "#        \n",
    "#Faz a busca por melhores parâmetros...\n",
    "grid = GridSearchCV(pipeline, param_grid, n_jobs=-1, verbose=True)\n",
    "grid.fit(X_train, y_train)\n",
    "\n",
    "# recupera o melhor modelo\n",
    "model = grid.best_estimator_\n",
    "print(classification_report(y_test, model.predict(X_test)))"
   ]
  },
  {
   "cell_type": "code",
   "execution_count": null,
   "metadata": {},
   "outputs": [],
   "source": [
    "### MLP  - Rede Neural Artificial\n",
    "\n",
    "clf = MLPClassifier(solver='adam', alpha=1e-5, hidden_layer_sizes=(20), random_state=1)\n",
    "clf.fit(X_train, y_train)\n",
    "print(clf.predict(X_test))\n",
    "print(classification_report(y_test, clf.predict(X_test)))"
   ]
  },
  {
   "cell_type": "code",
   "execution_count": null,
   "metadata": {},
   "outputs": [],
   "source": [
    "## Random Forest Classifier\n",
    "X, y = make_classification(n_samples=1000, n_features=4, n_informative=2, n_redundant=0, random_state=0, shuffle=False)\n",
    "clf = RandomForestClassifier(n_estimators=10000, max_depth=30, random_state=1)\n",
    "clf.fit(X_train, y_train)  \n",
    "#print(clf.feature_importances_)\n",
    "print(clf.predict(X_test))\n",
    "print(classification_report(y_test, clf.predict(X_test)))\n",
    "        "
   ]
  },
  {
   "cell_type": "code",
   "execution_count": null,
   "metadata": {},
   "outputs": [],
   "source": [
    "### Decision Tree\n",
    "clf = tree.DecisionTreeClassifier()\n",
    "clf.fit(X_train, y_train)\n",
    "print(clf.predict(X_test))\n",
    "print(classification_report(y_test, clf.predict(X_test)))\n",
    "#tree.plot_tree(clf)"
   ]
  }
 ],
 "metadata": {
  "kernelspec": {
   "display_name": ".venv",
   "language": "python",
   "name": "python3"
  },
  "language_info": {
   "codemirror_mode": {
    "name": "ipython",
    "version": 3
   },
   "file_extension": ".py",
   "mimetype": "text/x-python",
   "name": "python",
   "nbconvert_exporter": "python",
   "pygments_lexer": "ipython3",
   "version": "3.10.12"
  }
 },
 "nbformat": 4,
 "nbformat_minor": 2
}
