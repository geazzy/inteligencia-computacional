{
 "cells": [
  {
   "cell_type": "code",
   "execution_count": 1,
   "id": "5af96ee9",
   "metadata": {
    "execution": {
     "iopub.execute_input": "2023-12-07T18:51:13.894189Z",
     "iopub.status.busy": "2023-12-07T18:51:13.893836Z",
     "iopub.status.idle": "2023-12-07T18:51:25.485900Z",
     "shell.execute_reply": "2023-12-07T18:51:25.484757Z"
    },
    "papermill": {
     "duration": 11.600352,
     "end_time": "2023-12-07T18:51:25.488320",
     "exception": false,
     "start_time": "2023-12-07T18:51:13.887968",
     "status": "completed"
    },
    "tags": []
   },
   "outputs": [
    {
     "name": "stdout",
     "output_type": "stream",
     "text": [
      "Collecting mahotas\r\n",
      "  Downloading mahotas-1.4.13-cp310-cp310-manylinux_2_17_x86_64.manylinux2014_x86_64.whl (5.4 MB)\r\n",
      "\u001b[2K     \u001b[90m━━━━━━━━━━━━━━━━━━━━━━━━━━━━━━━━━━━━━━━━\u001b[0m \u001b[32m5.4/5.4 MB\u001b[0m \u001b[31m57.5 MB/s\u001b[0m eta \u001b[36m0:00:00\u001b[0m\r\n",
      "\u001b[?25hRequirement already satisfied: numpy in /opt/conda/lib/python3.10/site-packages (from mahotas) (1.24.3)\r\n",
      "Installing collected packages: mahotas\r\n",
      "Successfully installed mahotas-1.4.13\r\n"
     ]
    }
   ],
   "source": [
    "!pip install mahotas"
   ]
  },
  {
   "cell_type": "code",
   "execution_count": 2,
   "id": "23c60cca",
   "metadata": {
    "_cell_guid": "b1076dfc-b9ad-4769-8c92-a6c4dae69d19",
    "_uuid": "8f2839f25d086af736a60e9eeb907d3b93b6e0e5",
    "execution": {
     "iopub.execute_input": "2023-12-07T18:51:25.498048Z",
     "iopub.status.busy": "2023-12-07T18:51:25.497563Z",
     "iopub.status.idle": "2023-12-07T18:51:28.466026Z",
     "shell.execute_reply": "2023-12-07T18:51:28.464840Z"
    },
    "papermill": {
     "duration": 2.976247,
     "end_time": "2023-12-07T18:51:28.468507",
     "exception": false,
     "start_time": "2023-12-07T18:51:25.492260",
     "status": "completed"
    },
    "tags": []
   },
   "outputs": [],
   "source": [
    "import pandas as pd\n",
    "import cv2\n",
    "from skimage import feature\n",
    "import numpy as np\n",
    "from sklearn.svm import SVC\n",
    "from sklearn.preprocessing import StandardScaler\n",
    "from sklearn.metrics import accuracy_score, classification_report, confusion_matrix\n",
    "import mahotas #to user pftas\n",
    "import pickle #to save features vectors"
   ]
  },
  {
   "cell_type": "code",
   "execution_count": 3,
   "id": "27fdd729",
   "metadata": {
    "execution": {
     "iopub.execute_input": "2023-12-07T18:51:28.477887Z",
     "iopub.status.busy": "2023-12-07T18:51:28.477178Z",
     "iopub.status.idle": "2023-12-07T18:51:28.485117Z",
     "shell.execute_reply": "2023-12-07T18:51:28.483604Z"
    },
    "papermill": {
     "duration": 0.015419,
     "end_time": "2023-12-07T18:51:28.487618",
     "exception": false,
     "start_time": "2023-12-07T18:51:28.472199",
     "status": "completed"
    },
    "tags": []
   },
   "outputs": [],
   "source": [
    "class LocalBinaryPatterns:\n",
    "    \n",
    "    def __init__(self, numPoints, radius):\n",
    "        self.numPoints = numPoints\n",
    "        self.radius = radius\n",
    "        \n",
    "    def describe(self, image):\n",
    "        \n",
    "        img_gray = cv2.cvtColor(image, cv2.COLOR_BGR2GRAY)\n",
    "        lbp = feature.local_binary_pattern(img_gray, self.numPoints,\n",
    "                                           self.radius, method=\"uniform\")\n",
    "        \n",
    "        n_bins = int(lbp.max() + 1)\n",
    "        (hist, _) = np.histogram(lbp.ravel(),\n",
    "                                 bins=n_bins,\n",
    "                                 range=(0, n_bins))\n",
    "        return hist"
   ]
  },
  {
   "cell_type": "code",
   "execution_count": 4,
   "id": "7100c5a6",
   "metadata": {
    "execution": {
     "iopub.execute_input": "2023-12-07T18:51:28.497554Z",
     "iopub.status.busy": "2023-12-07T18:51:28.496293Z",
     "iopub.status.idle": "2023-12-07T18:51:28.503036Z",
     "shell.execute_reply": "2023-12-07T18:51:28.501848Z"
    },
    "papermill": {
     "duration": 0.013682,
     "end_time": "2023-12-07T18:51:28.505165",
     "exception": false,
     "start_time": "2023-12-07T18:51:28.491483",
     "status": "completed"
    },
    "tags": []
   },
   "outputs": [],
   "source": [
    "class Pftas:\n",
    "    \n",
    "    def describe(self, img):\n",
    "        #cv2.imread(img_path, cv2.IMREAD_COLOR)\n",
    "        return mahotas.features.tas(img)"
   ]
  },
  {
   "cell_type": "code",
   "execution_count": 5,
   "id": "47697324",
   "metadata": {
    "execution": {
     "iopub.execute_input": "2023-12-07T18:51:28.514378Z",
     "iopub.status.busy": "2023-12-07T18:51:28.514076Z",
     "iopub.status.idle": "2023-12-07T18:51:28.524050Z",
     "shell.execute_reply": "2023-12-07T18:51:28.522640Z"
    },
    "papermill": {
     "duration": 0.016842,
     "end_time": "2023-12-07T18:51:28.526173",
     "exception": false,
     "start_time": "2023-12-07T18:51:28.509331",
     "status": "completed"
    },
    "tags": []
   },
   "outputs": [],
   "source": [
    "class Dataset():\n",
    "    def __init__(self, df):\n",
    "        self.df = df\n",
    "        self.lbp = LocalBinaryPatterns(numPoints=8, radius=2)\n",
    "        self.pftas = Pftas()\n",
    "        \n",
    "\n",
    "    def __len__(self):\n",
    "        return len(self.df)\n",
    "    \n",
    "    def get_image(self, img_path):\n",
    "        img = cv2.imread(img_path, cv2.IMREAD_COLOR)\n",
    "\n",
    "        if img.shape != (460, 700, 3):\n",
    "            img = cv2.resize(img, (460, 700))\n",
    "        return img\n",
    "    \n",
    "    def get_pftas(self, idx):\n",
    "        img = self.get_image(self.df.iloc[idx][\"path\"])\n",
    "        pftas_features =  self.pftas.describe(img)\n",
    "        \n",
    "        label = str(self.df.iloc[idx][\"class\"])\n",
    "        return np.array(pftas_features, dtype=np.float32), label\n",
    "\n",
    "    def get_lbp(self, idx):\n",
    "        img = self.get_image(self.df.iloc[idx][\"path\"])\n",
    "        lbp_features = self.lbp.describe(img)\n",
    "\n",
    "        label = str(self.df.iloc[idx][\"class\"])\n",
    "        return np.array(lbp_features, dtype=np.float32), label\n"
   ]
  },
  {
   "cell_type": "code",
   "execution_count": 6,
   "id": "22dc7a90",
   "metadata": {
    "execution": {
     "iopub.execute_input": "2023-12-07T18:51:28.535644Z",
     "iopub.status.busy": "2023-12-07T18:51:28.535238Z",
     "iopub.status.idle": "2023-12-07T18:51:28.540653Z",
     "shell.execute_reply": "2023-12-07T18:51:28.539476Z"
    },
    "papermill": {
     "duration": 0.012439,
     "end_time": "2023-12-07T18:51:28.542758",
     "exception": false,
     "start_time": "2023-12-07T18:51:28.530319",
     "status": "completed"
    },
    "tags": []
   },
   "outputs": [],
   "source": [
    "# class SVMClassifier:\n",
    "#     def __init__(self, C=1.0, kernel='rbf', gamma='scale', coef0=0):\n",
    "#         self.C = C\n",
    "#         self.kernel = kernel\n",
    "#         self.gamma = gamma\n",
    "#         self.coef0 = coef0\n",
    "#         self.clf = SVC(C=self.C, kernel=self.kernel, gamma=self.gamma, coef0=self.coef0)\n",
    "\n",
    "#     def train(self, X_train, y_train):\n",
    "#         self.clf.fit(X_train, y_train)\n",
    "\n",
    "#     def predict(self, X_test):\n",
    "#         return self.clf.predict(X_test)\n",
    "\n",
    "#     def evaluate(self, X_test, y_test):\n",
    "#         y_pred = self.predict(X_test)\n",
    "#         print(\"Classification Report:\")\n",
    "#         print(classification_report(y_test, y_pred))"
   ]
  },
  {
   "cell_type": "code",
   "execution_count": 7,
   "id": "32ef0043",
   "metadata": {
    "execution": {
     "iopub.execute_input": "2023-12-07T18:51:28.552345Z",
     "iopub.status.busy": "2023-12-07T18:51:28.551402Z",
     "iopub.status.idle": "2023-12-07T18:51:28.558157Z",
     "shell.execute_reply": "2023-12-07T18:51:28.557013Z"
    },
    "papermill": {
     "duration": 0.013159,
     "end_time": "2023-12-07T18:51:28.559902",
     "exception": false,
     "start_time": "2023-12-07T18:51:28.546743",
     "status": "completed"
    },
    "tags": []
   },
   "outputs": [],
   "source": [
    "# Função para pré-processar os dados\n",
    "def preprocess_data(df):\n",
    "    df.rename(columns={\"filename\": \"path\"}, inplace=True)\n",
    "    # Divida a coluna 'path' uma vez\n",
    "    split_path = df[\"path\"].str.split('/')\n",
    "    df[\"filename\"] = split_path.str[8]\n",
    "    df[\"class\"] = split_path.str[3]  # string\n",
    "    df[\"slide_id\"] = split_path.str[8].str.split(\"-\").str[2]\n",
    "    df[\"tumor_type\"] = split_path.str[8].str.split(\"-\").str[0].str.split(\"_\").str[2]\n",
    "    df[\"path\"] = '/kaggle/input/breakhis/BreaKHis_v1/' + df[\"path\"]\n",
    "    return df"
   ]
  },
  {
   "cell_type": "code",
   "execution_count": 8,
   "id": "6262439d",
   "metadata": {
    "_kg_hide-output": false,
    "execution": {
     "iopub.execute_input": "2023-12-07T18:51:28.568686Z",
     "iopub.status.busy": "2023-12-07T18:51:28.568310Z",
     "iopub.status.idle": "2023-12-07T19:39:51.931516Z",
     "shell.execute_reply": "2023-12-07T19:39:51.930577Z"
    },
    "papermill": {
     "duration": 2903.3709,
     "end_time": "2023-12-07T19:39:51.934574",
     "exception": false,
     "start_time": "2023-12-07T18:51:28.563674",
     "status": "completed"
    },
    "tags": []
   },
   "outputs": [
    {
     "name": "stdout",
     "output_type": "stream",
     "text": [
      "Zoom: 40 - grp: train - dataset len: 1250\n",
      "Zoom: 40 - grp: test - dataset len: 745\n",
      "Zoom: 100 - grp: train - dataset len: 1321\n",
      "Zoom: 100 - grp: test - dataset len: 760\n",
      "Zoom: 200 - grp: train - dataset len: 1269\n",
      "Zoom: 200 - grp: test - dataset len: 744\n",
      "Zoom: 400 - grp: train - dataset len: 1165\n",
      "Zoom: 400 - grp: test - dataset len: 655\n"
     ]
    }
   ],
   "source": [
    "df = preprocess_data(pd.read_csv('/kaggle/input/breakhis/Folds.csv'))\n",
    "\n",
    "for zoom in [40, 100, 200, 400]:\n",
    "    for grp in [\"train\", \"test\"]:\n",
    "               \n",
    "        df_subset = df.query(\"fold == 1\").query(f\"mag == {zoom}\").query(f\"grp == '{grp}'\")\n",
    "        dataset = Dataset(df_subset)\n",
    "        \n",
    "        print(f\"Zoom: {zoom} - grp: {grp} - dataset len: {len(dataset)}\")\n",
    "        \n",
    "        X_lbp, y_lbp = zip(*(dataset.get_lbp(idx) for idx in range(len(dataset))))\n",
    "        X_pftas, y_pftas = zip(*(dataset.get_pftas(idx) for idx in range(len(dataset))))\n",
    "        \n",
    "        np.save(f\"lbp_{zoom}_{grp}_X.npy\", X_lbp)\n",
    "        np.save(f\"pftas_{zoom}_{grp}_X.npy\", X_pftas)\n",
    "        np.save(f\"lbp_{zoom}_{grp}_y.npy\", y_lbp)\n",
    "        np.save(f\"pftas_{zoom}_{grp}_y.npy\", y_pftas)\n",
    "\n"
   ]
  },
  {
   "cell_type": "code",
   "execution_count": 9,
   "id": "3cfeea4c",
   "metadata": {
    "execution": {
     "iopub.execute_input": "2023-12-07T19:39:51.945931Z",
     "iopub.status.busy": "2023-12-07T19:39:51.945276Z",
     "iopub.status.idle": "2023-12-07T19:39:51.949046Z",
     "shell.execute_reply": "2023-12-07T19:39:51.948472Z"
    },
    "papermill": {
     "duration": 0.010743,
     "end_time": "2023-12-07T19:39:51.950627",
     "exception": false,
     "start_time": "2023-12-07T19:39:51.939884",
     "status": "completed"
    },
    "tags": []
   },
   "outputs": [],
   "source": [
    "#list comprehensions para criar as listas de características e rótulos\n",
    "#X_lbp_train, y_lbp_train = zip(*(train_dataset.get_lbp(idx) for idx in range(len(train_dataset))))\n",
    "#X_lbp_test, y_lbp_test = zip(*(test_dataset.get_lbp(idx) for idx in range(len(test_dataset))))"
   ]
  },
  {
   "cell_type": "code",
   "execution_count": 10,
   "id": "6027cdd6",
   "metadata": {
    "execution": {
     "iopub.execute_input": "2023-12-07T19:39:51.959786Z",
     "iopub.status.busy": "2023-12-07T19:39:51.959313Z",
     "iopub.status.idle": "2023-12-07T19:39:51.963129Z",
     "shell.execute_reply": "2023-12-07T19:39:51.962362Z"
    },
    "papermill": {
     "duration": 0.010162,
     "end_time": "2023-12-07T19:39:51.964709",
     "exception": false,
     "start_time": "2023-12-07T19:39:51.954547",
     "status": "completed"
    },
    "tags": []
   },
   "outputs": [],
   "source": [
    "#list comprehensions para criar as listas de características e rótulos\n",
    "#X_pftas_train, y_pftas_train = zip(*(train_dataset.get_pftas(idx) for idx in range(len(train_dataset))))\n",
    "#X_pftas_test, y_pftas_test = zip(*(test_dataset.get_pftas(idx) for idx in range(len(test_dataset))))"
   ]
  },
  {
   "cell_type": "code",
   "execution_count": 11,
   "id": "34f2f366",
   "metadata": {
    "execution": {
     "iopub.execute_input": "2023-12-07T19:39:51.973962Z",
     "iopub.status.busy": "2023-12-07T19:39:51.973549Z",
     "iopub.status.idle": "2023-12-07T19:39:51.976991Z",
     "shell.execute_reply": "2023-12-07T19:39:51.976425Z"
    },
    "papermill": {
     "duration": 0.009826,
     "end_time": "2023-12-07T19:39:51.978518",
     "exception": false,
     "start_time": "2023-12-07T19:39:51.968692",
     "status": "completed"
    },
    "tags": []
   },
   "outputs": [],
   "source": [
    "#lbp\n",
    "# ss = StandardScaler()\n",
    "# X_train = ss.fit_transform(X_lbp_train)\n",
    "# X_test = ss.transform(X_lbp_test)\n",
    "\n",
    "\n",
    "\n",
    "# svm_classifier = SVMClassifier()\n",
    "# svm_classifier.train(X_train, y_lbp_train)\n",
    "# svm_classifier.evaluate(X_test, y_lbp_test)"
   ]
  },
  {
   "cell_type": "code",
   "execution_count": 12,
   "id": "88799600",
   "metadata": {
    "execution": {
     "iopub.execute_input": "2023-12-07T19:39:51.987695Z",
     "iopub.status.busy": "2023-12-07T19:39:51.987253Z",
     "iopub.status.idle": "2023-12-07T19:39:51.991911Z",
     "shell.execute_reply": "2023-12-07T19:39:51.990404Z"
    },
    "papermill": {
     "duration": 0.012305,
     "end_time": "2023-12-07T19:39:51.994710",
     "exception": false,
     "start_time": "2023-12-07T19:39:51.982405",
     "status": "completed"
    },
    "tags": []
   },
   "outputs": [],
   "source": [
    "#pftas\n",
    "# ss = StandardScaler()\n",
    "# X_train = ss.fit_transform(X_pftas_train)\n",
    "# X_test = ss.transform(X_pftas_test)\n",
    "\n",
    "\n",
    "\n",
    "# svm_classifier = SVMClassifier()\n",
    "# svm_classifier.train(X_train, y_pftas_train)\n",
    "# svm_classifier.evaluate(X_test, y_pftas_test)"
   ]
  }
 ],
 "metadata": {
  "kaggle": {
   "accelerator": "none",
   "dataSources": [
    {
     "datasetId": 209316,
     "sourceId": 999617,
     "sourceType": "datasetVersion"
    }
   ],
   "dockerImageVersionId": 30587,
   "isGpuEnabled": false,
   "isInternetEnabled": true,
   "language": "python",
   "sourceType": "notebook"
  },
  "kernelspec": {
   "display_name": "Python 3",
   "language": "python",
   "name": "python3"
  },
  "language_info": {
   "codemirror_mode": {
    "name": "ipython",
    "version": 3
   },
   "file_extension": ".py",
   "mimetype": "text/x-python",
   "name": "python",
   "nbconvert_exporter": "python",
   "pygments_lexer": "ipython3",
   "version": "3.10.12"
  },
  "papermill": {
   "default_parameters": {},
   "duration": 2921.895354,
   "end_time": "2023-12-07T19:39:52.829071",
   "environment_variables": {},
   "exception": null,
   "input_path": "__notebook__.ipynb",
   "output_path": "__notebook__.ipynb",
   "parameters": {},
   "start_time": "2023-12-07T18:51:10.933717",
   "version": "2.4.0"
  }
 },
 "nbformat": 4,
 "nbformat_minor": 5
}
