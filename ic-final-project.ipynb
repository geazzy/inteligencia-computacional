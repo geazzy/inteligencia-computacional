{
 "cells": [
  {
   "cell_type": "code",
   "execution_count": 1,
   "id": "459a1cd1",
   "metadata": {
    "execution": {
     "iopub.execute_input": "2023-11-29T19:43:40.946575Z",
     "iopub.status.busy": "2023-11-29T19:43:40.945320Z",
     "iopub.status.idle": "2023-11-29T19:43:41.890107Z",
     "shell.execute_reply": "2023-11-29T19:43:41.888886Z"
    },
    "papermill": {
     "duration": 0.951802,
     "end_time": "2023-11-29T19:43:41.892799",
     "exception": false,
     "start_time": "2023-11-29T19:43:40.940997",
     "status": "completed"
    },
    "tags": []
   },
   "outputs": [],
   "source": [
    "import pandas as pd\n",
    "import logging"
   ]
  },
  {
   "cell_type": "code",
   "execution_count": 2,
   "id": "7463f63f",
   "metadata": {
    "execution": {
     "iopub.execute_input": "2023-11-29T19:43:41.900237Z",
     "iopub.status.busy": "2023-11-29T19:43:41.898916Z",
     "iopub.status.idle": "2023-11-29T19:43:43.580167Z",
     "shell.execute_reply": "2023-11-29T19:43:43.578553Z"
    },
    "papermill": {
     "duration": 1.687702,
     "end_time": "2023-11-29T19:43:43.583104",
     "exception": false,
     "start_time": "2023-11-29T19:43:41.895402",
     "status": "completed"
    },
    "tags": []
   },
   "outputs": [
    {
     "name": "stdout",
     "output_type": "stream",
     "text": [
      "      fold  mag   grp                                               path  \\\n",
      "7904     1  400  test  BreaKHis_v1/histology_slides/breast/malignant/...   \n",
      "7905     1  400  test  BreaKHis_v1/histology_slides/breast/malignant/...   \n",
      "7906     1  400  test  BreaKHis_v1/histology_slides/breast/malignant/...   \n",
      "7907     1  400  test  BreaKHis_v1/histology_slides/breast/malignant/...   \n",
      "7908     1  400  test  BreaKHis_v1/histology_slides/breast/malignant/...   \n",
      "\n",
      "                               name      class slide_id tumor_id  \n",
      "7904  SOB_M_PC-14-15704-400-031.png  malignant    15704       PC  \n",
      "7905  SOB_M_PC-14-15704-400-032.png  malignant    15704       PC  \n",
      "7906  SOB_M_PC-14-15704-400-033.png  malignant    15704       PC  \n",
      "7907  SOB_M_PC-14-15704-400-034.png  malignant    15704       PC  \n",
      "7908  SOB_M_PC-14-15704-400-035.png  malignant    15704       PC  \n"
     ]
    }
   ],
   "source": [
    "\n",
    "df = pd.read_csv('/kaggle/input/breakhis/Folds.csv')\n",
    "df1 = df[df[\"fold\"] == 1].copy()  # Use copy to avoid modifying the original DataFrame\n",
    "df1.rename(columns={\"filename\": \"path\"}, inplace=True)\n",
    "\n",
    "for index, row in df1.iterrows():\n",
    "    df1.at[index, \"name\"] = row[\"path\"].split('/')[8]\n",
    "    df1.at[index, \"class\"] = row[\"path\"].split('/')[3]\n",
    "    df1.at[index, \"slide_id\"] = row[\"path\"].split('/')[8].split(\"-\")[2]\n",
    "    df1.at[index, \"tumor_id\"] = row[\"path\"].split('/')[8].split(\"-\")[0].split(\"_\")[2]\n",
    "\n",
    "print(df1.tail())"
   ]
  }
 ],
 "metadata": {
  "kaggle": {
   "accelerator": "none",
   "dataSources": [
    {
     "datasetId": 209316,
     "sourceId": 999617,
     "sourceType": "datasetVersion"
    }
   ],
   "dockerImageVersionId": 30587,
   "isGpuEnabled": false,
   "isInternetEnabled": true,
   "language": "python",
   "sourceType": "notebook"
  },
  "kernelspec": {
   "display_name": "Python 3",
   "language": "python",
   "name": "python3"
  },
  "language_info": {
   "codemirror_mode": {
    "name": "ipython",
    "version": 3
   },
   "file_extension": ".py",
   "mimetype": "text/x-python",
   "name": "python",
   "nbconvert_exporter": "python",
   "pygments_lexer": "ipython3",
   "version": "3.10.12"
  },
  "papermill": {
   "default_parameters": {},
   "duration": 7.902955,
   "end_time": "2023-11-29T19:43:44.107356",
   "environment_variables": {},
   "exception": null,
   "input_path": "__notebook__.ipynb",
   "output_path": "__notebook__.ipynb",
   "parameters": {},
   "start_time": "2023-11-29T19:43:36.204401",
   "version": "2.4.0"
  }
 },
 "nbformat": 4,
 "nbformat_minor": 5
}
