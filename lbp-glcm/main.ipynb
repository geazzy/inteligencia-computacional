{
 "cells": [
  {
   "cell_type": "code",
   "execution_count": null,
   "metadata": {},
   "outputs": [],
   "source": [
    "# imports\n",
    "import cv2\n",
    "import natsort\n",
    "import numpy as np\n",
    "from pathlib import Path\n",
    "from sklearn.neighbors import KNeighborsClassifier\n",
    "from sklearn.svm import SVC \n",
    "from sklearn.metrics import accuracy_score, f1_score\n",
    "from sklearn.preprocessing import StandardScaler\n",
    "from sklearn.model_selection import train_test_split\n",
    "from skimage.feature import graycomatrix, graycoprops, local_binary_pattern"
   ]
  },
  {
   "cell_type": "code",
   "execution_count": null,
   "metadata": {},
   "outputs": [],
   "source": [
    "def calculate_lbp(image, quadrants=(1,1), neighbours=8, radius=2):\n",
    "  # Tamanho dos quadrantes\n",
    "  width, height = image.shape[0], image.shape[1]\n",
    "  part_width = width // quadrants[0]\n",
    "  part_height = height // quadrants[1]\n",
    "  \n",
    "  # Calculate\n",
    "  result = list()\n",
    "  for i in range(quadrants[0]):\n",
    "    for j in range(quadrants[1]):\n",
    "      #coordenadas da parte da imagem\n",
    "      left = i * part_width\n",
    "      upper = j * part_height\n",
    "      right = left + part_width\n",
    "      lower = upper + part_height\n",
    "\n",
    "      # Retorna o quadrante da imagem\n",
    "      quadrant = image[left:right, upper:lower]\n",
    "\n",
    "      # Calculate Features\n",
    "      lbp_image = local_binary_pattern(quadrant, neighbours, radius, method=\"nri_uniform\")\n",
    "      n_bins = int(lbp_image.max() + 1)\n",
    "      hist, _ = np.histogram(lbp_image, density=True, bins=n_bins, range=(0, n_bins))\n",
    "\n",
    "      # Append to result\n",
    "      result.extend(hist)\n",
    "          \n",
    "  return result\n",
    "#end lbp\n",
    "\n",
    "def calculate_glcm(image, quadrants=(1,1)):\n",
    "  # Tamanho dos quadrantes\n",
    "  width, height = image.shape[0], image.shape[1]\n",
    "  part_width = width // quadrants[0]\n",
    "  part_height = height // quadrants[1]\n",
    "  \n",
    "  # Calculate\n",
    "  result = list()\n",
    "  for i in range(quadrants[0]):\n",
    "    for j in range(quadrants[1]):\n",
    "      #coordenadas da parte da imagem\n",
    "      left = i * part_width\n",
    "      upper = j * part_height\n",
    "      right = left + part_width\n",
    "      lower = upper + part_height\n",
    "\n",
    "      # Retorna o quadrante da imagem\n",
    "      quadrant = image[left:right, upper:lower]\n",
    "\n",
    "      # Calcula glcm matrix\n",
    "      glcm = graycomatrix(quadrant, [1], [0], symmetric=True, normed=True)\n",
    "\n",
    "      # Calculate Features\n",
    "      props = [\n",
    "        graycoprops(glcm, prop='contrast')[0][0],\n",
    "        graycoprops(glcm, prop='dissimilarity')[0][0],\n",
    "        graycoprops(glcm, prop='homogeneity')[0][0],\n",
    "        graycoprops(glcm, prop='ASM')[0][0],\n",
    "        graycoprops(glcm, prop='energy')[0][0],\n",
    "        graycoprops(glcm, prop='correlation')[0][0],\n",
    "      ]\n",
    "\n",
    "      # Append to result\n",
    "      result.extend(props)\n",
    "          \n",
    "  return result"
   ]
  },
  {
   "cell_type": "code",
   "execution_count": null,
   "metadata": {},
   "outputs": [],
   "source": [
    "def get_files(caminho_p):\n",
    "  file_dict = {}\n",
    "  for pasta in Path(caminho_p).iterdir():\n",
    "    if pasta.is_dir():\n",
    "      file_dict[pasta.name] = []\n",
    "            \n",
    "      for file in Path(pasta).iterdir():\n",
    "        if file.is_file() and (file.name.endswith(\".png\") or file.name.endswith(\".jpg\") or file.name.endswith(\".bmp\")):\n",
    "          file_dict[pasta.name].append(file)\n",
    "  return file_dict\n",
    "#end getfilos\n",
    "\n",
    "\n",
    "def createXy(database, quadrants=(1,1), lbp_props={'neighbours': 8, 'radius': 2}):\n",
    "  X_glcm, X_lbp, y = list(), list(), list()\n",
    "\n",
    "  for classe in database:\n",
    "    # for item in database[classe]:      \n",
    "    for item in natsort.natsorted(database[classe]):\n",
    "      image = cv2.imread(str(item), cv2.IMREAD_GRAYSCALE)\n",
    "\n",
    "      X_glcm.append(calculate_glcm(image, quadrants))\n",
    "      X_lbp.append(calculate_lbp(image, quadrants, lbp_props['neighbours'], lbp_props['radius']))\n",
    "      y.append(classe)\n",
    "\n",
    "  return np.array(X_glcm), np.array(X_lbp), np.array(y)\n",
    "#end createxy\n",
    "\n",
    "\n",
    "def split_normalizado(X, y, test_size=0.4, shuffle=True):\n",
    "  StandardScaler().fit_transform(X)\n",
    "  X_train, X_test, y_train, y_test = train_test_split(X, y, test_size=test_size, shuffle=shuffle, stratify=None)\n",
    "  return X_train, X_test, y_train, y_test\n",
    "#end treinotest\n",
    "\n",
    "\n",
    "def split_manual(X, y, train_size=18):\n",
    "  #normalize\n",
    "  StandardScaler().fit_transform(X)\n",
    "\n",
    "  # separar em classes\n",
    "  classes = dict()\n",
    "  for i, classe in enumerate(y):\n",
    "    if not classes.get(classe): classes[classe] = list()\n",
    "    classes[classe].append(X[i])\n",
    "\n",
    "  #split\n",
    "  X_train, X_test, y_train, y_test = list(), list(), list(), list()\n",
    "\n",
    "  for classe in classes.keys():\n",
    "    for i, instancia in enumerate(classes[classe]):\n",
    "      if i <= 18:\n",
    "        X_train.append(instancia)\n",
    "        y_train.append(classe)\n",
    "      else:\n",
    "        X_test.append(instancia)\n",
    "        y_test.append(classe)\n",
    "\n",
    "  return X_train, X_test, y_train, y_test\n",
    "#end treinotest"
   ]
  },
  {
   "cell_type": "code",
   "execution_count": null,
   "metadata": {},
   "outputs": [],
   "source": [
    "def knn(neighbors, X_train, y_train, X_test):\n",
    "  knn = KNeighborsClassifier(n_neighbors=neighbors, metric='euclidean').fit(X_train, y_train)\n",
    "  return knn.predict(X_test)\n",
    "#end knn\n",
    "\n",
    "def svm(X_train, y_train, X_test):\n",
    "  clf = SVC(kernel='linear')\n",
    "  clf.fit(X_train, y_train)\n",
    "  return clf.predict(X_test)"
   ]
  },
  {
   "cell_type": "markdown",
   "metadata": {},
   "source": [
    "- Execução"
   ]
  },
  {
   "cell_type": "code",
   "execution_count": null,
   "metadata": {},
   "outputs": [],
   "source": [
    "database = get_files('../datasets/Base_BFL_256/')"
   ]
  },
  {
   "cell_type": "code",
   "execution_count": null,
   "metadata": {},
   "outputs": [],
   "source": [
    "X_glcm, X_lbp, y = createXy(database, quadrants=(1, 1))"
   ]
  },
  {
   "cell_type": "code",
   "execution_count": null,
   "metadata": {},
   "outputs": [],
   "source": [
    "# X_glcm_train, X_glcm_test, y_glcm_train, y_glcm_test = split_normalizado(X_glcm, y, test_size=0.3)\n",
    "X_glcm_train, X_glcm_test, y_glcm_train, y_glcm_test = split_manual(X_glcm, y, train_size=18)"
   ]
  },
  {
   "cell_type": "code",
   "execution_count": null,
   "metadata": {},
   "outputs": [],
   "source": [
    "\n",
    "# X_lbp_train, X_lbp_test, y_lbp_train, y_lbp_test = split_normalizado(X_lbp, y, test_size=0.3)\n",
    "X_lbp_train, X_lbp_test, y_lbp_train, y_lbp_test = split_manual(X_lbp, y, train_size=18)"
   ]
  },
  {
   "cell_type": "code",
   "execution_count": null,
   "metadata": {},
   "outputs": [],
   "source": [
    "y_glcm_pred = knn(3, X_glcm_train, y_glcm_train, X_glcm_test)\n",
    "print('GLCM k-NN Accuracy: {:.4f}'.format(accuracy_score(y_glcm_test, y_glcm_pred)))"
   ]
  },
  {
   "cell_type": "code",
   "execution_count": null,
   "metadata": {},
   "outputs": [],
   "source": [
    "y_lbp_pred = knn(3, X_lbp_train, y_lbp_train, X_lbp_test)\n",
    "print('LBP k-NN Accuracy: {:.4f}'.format(accuracy_score(y_lbp_test, y_lbp_pred)))"
   ]
  },
  {
   "cell_type": "code",
   "execution_count": null,
   "metadata": {},
   "outputs": [],
   "source": [
    "y_lbp_pred = svm(X_lbp_train, y_lbp_train, X_lbp_test)\n",
    "print('LBP SVM Accuracy: {:.4f}'.format(accuracy_score(y_lbp_test, y_lbp_pred)))"
   ]
  },
  {
   "cell_type": "code",
   "execution_count": null,
   "metadata": {},
   "outputs": [],
   "source": [
    "y_glcm_pred = svm(X_glcm_train, y_glcm_train, X_glcm_test)\n",
    "print('GLCM SVM Accuracy: {:.4f}'.format(accuracy_score(y_glcm_test, y_glcm_pred)))"
   ]
  },
  {
   "cell_type": "code",
   "execution_count": null,
   "metadata": {},
   "outputs": [],
   "source": [
    "# # Split Manual\n",
    "# GLCM k-NN Accuracy: 0.3125\n",
    "# GLCM SVM Accuracy: 0.6250\n",
    "# LBP k-NN Accuracy: 0.7375\n",
    "# LBP SVM Accuracy: 0.4375\n",
    "\n",
    "# # Split Normalizado\n",
    "# GLCM k-NN Accuracy: 0.3951\n",
    "# GLCM SVM Accuracy: 0.7284\n",
    "# LBP k-NN Accuracy: 0.8889\n",
    "# LBP SVM Accuracy: 0.0741"
   ]
  }
 ],
 "metadata": {
  "kernelspec": {
   "display_name": ".venv",
   "language": "python",
   "name": "python3"
  },
  "language_info": {
   "codemirror_mode": {
    "name": "ipython",
    "version": 3
   },
   "file_extension": ".py",
   "mimetype": "text/x-python",
   "name": "python",
   "nbconvert_exporter": "python",
   "pygments_lexer": "ipython3",
   "version": "3.10.12"
  },
  "orig_nbformat": 4
 },
 "nbformat": 4,
 "nbformat_minor": 2
}
