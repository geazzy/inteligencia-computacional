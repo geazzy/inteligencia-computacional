{
 "cells": [
  {
   "cell_type": "code",
   "execution_count": 7,
   "metadata": {},
   "outputs": [],
   "source": [
    "# imports\n",
    "import cv2\n",
    "from pathlib import Path\n",
    "import numpy as np\n",
    "from sklearn.preprocessing import StandardScaler\n",
    "from sklearn.neighbors import KNeighborsClassifier\n",
    "from sklearn.model_selection import train_test_split\n",
    "from sklearn.metrics import accuracy_score, confusion_matrix, classification_report\n",
    "from sklearn.metrics import precision_score, recall_score\n",
    "from sklearn.metrics import f1_score"
   ]
  },
  {
   "cell_type": "code",
   "execution_count": 8,
   "metadata": {},
   "outputs": [],
   "source": [
    "def get_files(caminho_p):\n",
    "    file_dict = {}\n",
    "    i=0\n",
    "    for pasta in Path(caminho_p).iterdir():\n",
    "      if pasta.is_dir():\n",
    "        file_dict[pasta.name] = []\n",
    "        \n",
    "        for file in Path(pasta).iterdir():\n",
    "            if file.is_file() and file.name.endswith(\".bmp\"):\n",
    "              i+=1\n",
    "              file_dict[pasta.name].append(file)\n",
    "    print(f\"numero de arquivos: \", i)\n",
    "    return file_dict"
   ]
  },
  {
   "cell_type": "code",
   "execution_count": 9,
   "metadata": {},
   "outputs": [
    {
     "name": "stdout",
     "output_type": "stream",
     "text": [
      "numero de arquivos:  8505\n",
      "total 316\n"
     ]
    }
   ],
   "source": [
    "#https://drive.google.com/drive/folders/1-3DJsfgM73-AHlkjn3-VUedZWnmllCud?usp=drive_link\n",
    "arquivos = get_files(\"../Base_BFL_256/\")\n",
    "\n",
    "classes = sorted(list(arquivos.keys()))\n",
    "print(\"total\", len(classes))"
   ]
  },
  {
   "cell_type": "code",
   "execution_count": 10,
   "metadata": {},
   "outputs": [],
   "source": [
    "def treino_teste_normalizado(X, y):\n",
    "    StandardScaler().fit_transform(X)\n",
    "    X_train, X_test, y_train, y_test = train_test_split(X, y, test_size=0.33, shuffle=False)\n",
    "    return X_train, X_test, y_train, y_test\n",
    "\n",
    "\n",
    "def knn(neighbors, X_train, y_train, X_test):\n",
    "\n",
    "    knn = KNeighborsClassifier(n_neighbors=neighbors, metric='euclidean')\n",
    "    knn.fit(X_train, y_train)\n",
    "    y_pred = knn.predict(X_test)\n",
    "    return y_pred\n"
   ]
  },
  {
   "cell_type": "code",
   "execution_count": 11,
   "metadata": {},
   "outputs": [
    {
     "name": "stdout",
     "output_type": "stream",
     "text": [
      "numero de arquivos:  8505\n"
     ]
    }
   ],
   "source": [
    "database = get_files('../Base_BFL_256/')\n"
   ]
  }
 ],
 "metadata": {
  "kernelspec": {
   "display_name": ".venv",
   "language": "python",
   "name": "python3"
  },
  "language_info": {
   "codemirror_mode": {
    "name": "ipython",
    "version": 3
   },
   "file_extension": ".py",
   "mimetype": "text/x-python",
   "name": "python",
   "nbconvert_exporter": "python",
   "pygments_lexer": "ipython3",
   "version": "3.11.4"
  },
  "orig_nbformat": 4
 },
 "nbformat": 4,
 "nbformat_minor": 2
}
