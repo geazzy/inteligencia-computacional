{
 "cells": [
  {
   "cell_type": "code",
   "execution_count": 1,
   "metadata": {},
   "outputs": [
    {
     "ename": "ImportError",
     "evalue": "cannot import name 'greycomatrix' from 'skimage.feature.texture' (/Users/gzanoni/dev/inteligencia-computacional/.venv/lib/python3.11/site-packages/skimage/feature/texture.py)",
     "output_type": "error",
     "traceback": [
      "\u001b[0;31m---------------------------------------------------------------------------\u001b[0m",
      "\u001b[0;31mImportError\u001b[0m                               Traceback (most recent call last)",
      "\u001b[1;32m/Users/gzanoni/dev/inteligencia-computacional/atividade_4_LBP_GLCM/main.ipynb Célula 1\u001b[0m line \u001b[0;36m9\n\u001b[1;32m      <a href='vscode-notebook-cell:/Users/gzanoni/dev/inteligencia-computacional/atividade_4_LBP_GLCM/main.ipynb#W0sZmlsZQ%3D%3D?line=6'>7</a>\u001b[0m \u001b[39mfrom\u001b[39;00m \u001b[39msklearn\u001b[39;00m\u001b[39m.\u001b[39;00m\u001b[39mmetrics\u001b[39;00m \u001b[39mimport\u001b[39;00m accuracy_score, f1_score\n\u001b[1;32m      <a href='vscode-notebook-cell:/Users/gzanoni/dev/inteligencia-computacional/atividade_4_LBP_GLCM/main.ipynb#W0sZmlsZQ%3D%3D?line=7'>8</a>\u001b[0m \u001b[39mimport\u001b[39;00m \u001b[39mnatsort\u001b[39;00m\n\u001b[0;32m----> <a href='vscode-notebook-cell:/Users/gzanoni/dev/inteligencia-computacional/atividade_4_LBP_GLCM/main.ipynb#W0sZmlsZQ%3D%3D?line=8'>9</a>\u001b[0m \u001b[39mfrom\u001b[39;00m \u001b[39mskimage\u001b[39;00m\u001b[39m.\u001b[39;00m\u001b[39mfeature\u001b[39;00m\u001b[39m.\u001b[39;00m\u001b[39mtexture\u001b[39;00m \u001b[39mimport\u001b[39;00m greycomatrix, greycoprops\n",
      "\u001b[0;31mImportError\u001b[0m: cannot import name 'greycomatrix' from 'skimage.feature.texture' (/Users/gzanoni/dev/inteligencia-computacional/.venv/lib/python3.11/site-packages/skimage/feature/texture.py)"
     ]
    }
   ],
   "source": [
    "# imports\n",
    "import cv2\n",
    "from pathlib import Path, PosixPath\n",
    "import numpy as np\n",
    "import pandas as pd\n",
    "from sklearn.neighbors import KNeighborsClassifier\n",
    "from sklearn.metrics import accuracy_score, f1_score\n",
    "import natsort\n",
    "from skimage.feature import greycomatrix, greycoprops"
   ]
  },
  {
   "cell_type": "code",
   "execution_count": null,
   "metadata": {},
   "outputs": [],
   "source": [
    "def get_files(caminho_p):\n",
    "    i=0\n",
    "    train, test = list(), list()\n",
    "    \n",
    "    for pasta in sorted(Path(caminho_p).iterdir()):\n",
    "      if pasta.is_dir(): \n",
    "        for file in sorted(Path(pasta).iterdir()):\n",
    "            if file.is_file() and file.name.endswith(\".bmp\"):\n",
    "              num = file.name.split(\".\")[0].split(\"_\")[1]\n",
    "              if int(num) > 18:\n",
    "                test.append(str(file.absolute()))\n",
    "              else:\n",
    "                train.append(str(file.absolute()))\n",
    "              i+=1\n",
    "    print(f\"numero de arquivos: \", i)\n",
    "    return train, test\n",
    "  \n",
    "def get_classe(x):\n",
    "  classe = list()\n",
    "  for i in x:\n",
    "    file = PosixPath(i)\n",
    "    classe.append(file.name.split(\"_\")[0])\n",
    "  return classe"
   ]
  },
  {
   "cell_type": "code",
   "execution_count": null,
   "metadata": {},
   "outputs": [],
   "source": [
    "#https://drive.google.com/drive/folders/1-3DJsfgM73-AHlkjn3-VUedZWnmllCud?usp=drive_link\n",
    "train, test = get_files(\"../Base_BFL_256/\")\n",
    "train = natsort.natsorted(train) \n",
    "test = natsort.natsorted(test)\n",
    "classes_train = get_classe(train)\n",
    "classes_test = get_classe(test)\n",
    "print(classes_train)\n",
    "print(train)\n",
    "print(test)\n",
    "print(f\"tamanho de train {len(train)}\")\n",
    "print(f\"tamanho de test {len(test)}\")\n",
    "print(f\"tamanho de classes train {len(classes_train)}\")\n",
    "print(f\"tamanho de classes test {len(classes_test)}\")\n"
   ]
  },
  {
   "cell_type": "code",
   "execution_count": null,
   "metadata": {},
   "outputs": [],
   "source": [
    "# Função para calcular o LBP de uma imagem\n",
    "def calculate_lbp(imagefile):\n",
    "    image = cv2.imread(str(imagefile))\n",
    "    gray = cv2.cvtColor(image, cv2.COLOR_BGR2GRAY) # Converte a imagem para tons de cinza\n",
    "    lbp_image = np.zeros_like(gray) # Cria uma matriz de zeros com as mesmas dimensões da imagem\n",
    "    height, width = gray.shape\n",
    "\n",
    "    for i in range(1, height - 1):\n",
    "        for j in range(1, width - 1):\n",
    "            center = gray[i, j] # Pega o pixel central\n",
    "            binary_code = 0\n",
    "            binary_code |= (gray[i - 1, j - 1] > center) << 7 # Desloca 7 bits para a esquerda\n",
    "            binary_code |= (gray[i - 1, j] > center) << 6\n",
    "            binary_code |= (gray[i - 1, j + 1] > center) << 5\n",
    "            binary_code |= (gray[i, j + 1] > center) << 4\n",
    "            binary_code |= (gray[i + 1, j + 1] > center) << 3\n",
    "            binary_code |= (gray[i + 1, j] > center) << 2\n",
    "            binary_code |= (gray[i + 1, j - 1] > center) << 1 # Desloca 1 bit para a esquerda\n",
    "            binary_code |= (gray[i, j - 1] > center) << 0\n",
    "            lbp_image[i, j] = binary_code # Armazena o valor do código binário na matriz\n",
    "\n",
    "    return lbp_image\n"
   ]
  },
  {
   "cell_type": "code",
   "execution_count": null,
   "metadata": {},
   "outputs": [],
   "source": [
    "def knn(neighbors, train, classes, test):\n",
    "\n",
    "    knn = KNeighborsClassifier(n_neighbors=neighbors, metric='euclidean')\n",
    "    knn.fit(train, classes)\n",
    "    test_pred = knn.predict(test)\n",
    "    return test_pred\n"
   ]
  },
  {
   "cell_type": "code",
   "execution_count": null,
   "metadata": {},
   "outputs": [],
   "source": [
    "lbp_train = list()\n",
    "for imagefile in train:\n",
    "    lbp = calculate_lbp(imagefile)\n",
    "    lbp_train.append(lbp.ravel())\n",
    "\n",
    "lbp_test = list()\n",
    "for imagefile in test:\n",
    "    lbp = calculate_lbp(imagefile)\n",
    "    lbp_test.append(lbp.ravel())"
   ]
  },
  {
   "cell_type": "code",
   "execution_count": null,
   "metadata": {},
   "outputs": [],
   "source": [
    "\n",
    "test_pred = knn(3, lbp_train, classes_train, lbp_test)\n",
    "print(test_pred)\n",
    "print(classes_test)"
   ]
  },
  {
   "cell_type": "code",
   "execution_count": null,
   "metadata": {},
   "outputs": [],
   "source": [
    "print(accuracy_score(classes_test, test_pred))\n",
    "print(f1_score(classes_test, test_pred, average='macro'))"
   ]
  },
  {
   "cell_type": "code",
   "execution_count": null,
   "metadata": {},
   "outputs": [],
   "source": [
    "# Calcular o LBP da imagem\n",
    "lbp = calculate_lbp('../Base_BFL_256/CF00001/CF00001_1.bmp')\n",
    "\n",
    "lbp_df = pd.DataFrame(lbp)\n",
    "print(np.array(lbp.flatten()))\n",
    "#escrever em arquivo\n",
    "with open('lbp.txt', 'w') as f:\n",
    "    # for item in lbp.flatten():\n",
    "        f.write(\"%s\\n\" % lbp_df.to_string(index=False, header=False))\n",
    "\n",
    "lbp_df\n",
    "\n",
    "# Mostrar a imagem LBP\n",
    "# cv2.imshow('LBP Image', lbp)\n",
    "# cv2.waitKey(0)\n",
    "# cv2.destroyAllWindows()"
   ]
  },
  {
   "cell_type": "code",
   "execution_count": null,
   "metadata": {},
   "outputs": [],
   "source": [
    "def calculate_glcm(imagefile):\n",
    "    glcm_features = []\n",
    "    image = cv2.imread(str(imagefile), cv2.IMREAD_GRAYSCALE)\n",
    "    glcm = greycomatrix(image, [1], [0], symmetric=True, normed=True)\n",
    "    glcm_features.append(greycoprops(glcm, prop='contrast')[0][0])\n",
    "    glcm_features.append(greycoprops(glcm, prop='dissimilarity')[0][0])\n",
    "    glcm_features.append(greycoprops(glcm, prop='homogeneity')[0][0])\n",
    "    glcm_features.append(greycoprops(glcm, prop='ASM')[0][0])\n",
    "    glcm_features.append(greycoprops(glcm, prop='energy')[0][0])\n",
    "    glcm_features.append(greycoprops(glcm, prop='correlation')[0][0])\n",
    "    return glcm_features"
   ]
  }
 ],
 "metadata": {
  "kernelspec": {
   "display_name": ".venv",
   "language": "python",
   "name": "python3"
  },
  "language_info": {
   "codemirror_mode": {
    "name": "ipython",
    "version": 3
   },
   "file_extension": ".py",
   "mimetype": "text/x-python",
   "name": "python",
   "nbconvert_exporter": "python",
   "pygments_lexer": "ipython3",
   "version": "3.11.4"
  },
  "orig_nbformat": 4
 },
 "nbformat": 4,
 "nbformat_minor": 2
}
