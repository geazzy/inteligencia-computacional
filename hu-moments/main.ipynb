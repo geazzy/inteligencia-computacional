{
 "cells": [
  {
   "attachments": {},
   "cell_type": "markdown",
   "metadata": {},
   "source": [
    "# Momentos Invariantes de Hu"
   ]
  },
  {
   "cell_type": "code",
   "execution_count": 30,
   "metadata": {},
   "outputs": [],
   "source": [
    "# imports\n",
    "import cv2\n",
    "from pathlib import Path\n",
    "import numpy as np\n",
    "from sklearn.preprocessing import StandardScaler\n",
    "from sklearn.neighbors import KNeighborsClassifier\n",
    "from sklearn.model_selection import train_test_split\n",
    "from sklearn.metrics import accuracy_score, confusion_matrix, classification_report"
   ]
  },
  {
   "cell_type": "code",
   "execution_count": 31,
   "metadata": {},
   "outputs": [],
   "source": [
    "def hu_moments(filename, quadrants=(1,1)):\n",
    "    #open img\n",
    "    image = cv2.imread(str(filename), cv2.IMREAD_GRAYSCALE)\n",
    "\n",
    "    # Tamanho dos quadrantes\n",
    "    width, height = image.shape[0], image.shape[1]\n",
    "    part_width = width // quadrants[0]\n",
    "    part_height = height // quadrants[1]\n",
    "    \n",
    "    # Calculate\n",
    "    huMoments = list()\n",
    "    for i in range(quadrants[0]):\n",
    "        for j in range(quadrants[1]):\n",
    "            #coordenadas da parte da imagem\n",
    "            left = i * part_width\n",
    "            upper = j * part_height\n",
    "            right = left + part_width\n",
    "            lower = upper + part_height\n",
    "\n",
    "            # Retorna o quadrante da imagem\n",
    "            quad = image[left:right, upper:lower]\n",
    "\n",
    "            # Calculate Moments \n",
    "            moments = cv2.moments(quad)\n",
    "            # Calculate Hu Moments\n",
    "            huMoments.extend(cv2.HuMoments(moments).flatten())\n",
    "    return huMoments\n",
    "\n",
    "def get_files(caminho_p):\n",
    "    file_dict = {}\n",
    "    for pasta in Path(caminho_p).iterdir():\n",
    "      if pasta.is_dir():\n",
    "        file_dict[pasta.name] = []\n",
    "        \n",
    "        for file in Path(pasta).iterdir():\n",
    "            if file.is_file() and (file.name.endswith(\".png\") or file.name.endswith(\".jpg\")):\n",
    "                file_dict[pasta.name].append(str(file))\n",
    "    return file_dict"
   ]
  },
  {
   "attachments": {},
   "cell_type": "markdown",
   "metadata": {},
   "source": [
    "### Create X, y"
   ]
  },
  {
   "cell_type": "code",
   "execution_count": 32,
   "metadata": {},
   "outputs": [
    {
     "name": "stdout",
     "output_type": "stream",
     "text": [
      "(4000, 7) (4000,)\n"
     ]
    }
   ],
   "source": [
    "database = get_files('./fourShapes/')\n",
    "\n",
    "X, y = list(), list()\n",
    "\n",
    "for classe in database:\n",
    "    for item in database[classe]:\n",
    "        X.append(hu_moments(item, (1,1)))\n",
    "        y.append(classe)\n",
    "\n",
    "X, y = np.array(X), np.array(y)\n",
    "print(X.shape, y.shape)"
   ]
  },
  {
   "attachments": {},
   "cell_type": "markdown",
   "metadata": {},
   "source": [
    "### k-NN"
   ]
  },
  {
   "cell_type": "code",
   "execution_count": 33,
   "metadata": {},
   "outputs": [
    {
     "name": "stdout",
     "output_type": "stream",
     "text": [
      "Conjunto de treino (X, y): (2400, 7) (2400,)\n",
      "Conjunto de teste (X, y): (1600, 7) (1600,)\n"
     ]
    }
   ],
   "source": [
    "# normalize\n",
    "scaler = StandardScaler()\n",
    "X = scaler.fit_transform(X)\n",
    "\n",
    "# separa em conjunto de treino e teste\n",
    "X_train, X_test, y_train, y_test = train_test_split(X, y, test_size=0.4)\n",
    "\n",
    "print('Conjunto de treino (X, y):', X_train.shape, y_train.shape)\n",
    "print('Conjunto de teste (X, y):', X_test.shape, y_test.shape)"
   ]
  },
  {
   "cell_type": "code",
   "execution_count": 34,
   "metadata": {},
   "outputs": [
    {
     "name": "stdout",
     "output_type": "stream",
     "text": [
      "              precision    recall  f1-score   support\n",
      "\n",
      "      circle       0.83      0.94      0.88       386\n",
      "      square       0.93      0.81      0.87       403\n",
      "        star       1.00      1.00      1.00       399\n",
      "    triangle       1.00      1.00      1.00       412\n",
      "\n",
      "    accuracy                           0.94      1600\n",
      "   macro avg       0.94      0.94      0.94      1600\n",
      "weighted avg       0.94      0.94      0.94      1600\n",
      "\n"
     ]
    }
   ],
   "source": [
    "#knn\n",
    "knn = KNeighborsClassifier(n_neighbors=5, metric='euclidean')\n",
    "knn.fit(X_train, y_train)\n",
    "y_pred = knn.predict(X_test)\n",
    "\n",
    "# accuracy_score(y_test, y_pred)\n",
    "# confusion_matrix(y_test, y_pred)\n",
    "print(classification_report(y_test, y_pred, labels=knn.classes_))"
   ]
  }
 ],
 "metadata": {
  "kernelspec": {
   "display_name": "Python 3",
   "language": "python",
   "name": "python3"
  },
  "language_info": {
   "codemirror_mode": {
    "name": "ipython",
    "version": 3
   },
   "file_extension": ".py",
   "mimetype": "text/x-python",
   "name": "python",
   "nbconvert_exporter": "python",
   "pygments_lexer": "ipython3",
   "version": "3.10.6"
  },
  "orig_nbformat": 4
 },
 "nbformat": 4,
 "nbformat_minor": 2
}
