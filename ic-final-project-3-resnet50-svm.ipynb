{
 "cells": [
  {
   "cell_type": "code",
   "execution_count": 1,
   "id": "a3466907",
   "metadata": {
    "_cell_guid": "b1076dfc-b9ad-4769-8c92-a6c4dae69d19",
    "_uuid": "8f2839f25d086af736a60e9eeb907d3b93b6e0e5",
    "execution": {
     "iopub.execute_input": "2023-12-07T17:30:23.484222Z",
     "iopub.status.busy": "2023-12-07T17:30:23.483936Z",
     "iopub.status.idle": "2023-12-07T17:30:31.302762Z",
     "shell.execute_reply": "2023-12-07T17:30:31.301824Z"
    },
    "papermill": {
     "duration": 7.825786,
     "end_time": "2023-12-07T17:30:31.305713",
     "exception": false,
     "start_time": "2023-12-07T17:30:23.479927",
     "status": "completed"
    },
    "tags": []
   },
   "outputs": [],
   "source": [
    "from PIL import Image\n",
    "\n",
    "import numpy as np\n",
    "import pandas as pd\n",
    "\n",
    "import torch\n",
    "import torchvision.models as models\n",
    "import torchvision.transforms as transforms\n"
   ]
  },
  {
   "cell_type": "code",
   "execution_count": 2,
   "id": "bb591135",
   "metadata": {
    "execution": {
     "iopub.execute_input": "2023-12-07T17:30:31.316842Z",
     "iopub.status.busy": "2023-12-07T17:30:31.316123Z",
     "iopub.status.idle": "2023-12-07T17:30:31.696174Z",
     "shell.execute_reply": "2023-12-07T17:30:31.695404Z"
    },
    "papermill": {
     "duration": 0.388886,
     "end_time": "2023-12-07T17:30:31.698566",
     "exception": false,
     "start_time": "2023-12-07T17:30:31.309680",
     "status": "completed"
    },
    "tags": []
   },
   "outputs": [],
   "source": [
    "\n",
    "# Pre Processing\n",
    "\n",
    "df = pd.read_csv('/kaggle/input/breakhis/Folds.csv')\n",
    "df[\"class\"] = df[\"filename\"].str.split('/').str[3]\n",
    "df[\"filename\"] = '/kaggle/input/breakhis/BreaKHis_v1/' + df[\"filename\"]"
   ]
  },
  {
   "cell_type": "code",
   "execution_count": 3,
   "id": "07eb04f1",
   "metadata": {
    "execution": {
     "iopub.execute_input": "2023-12-07T17:30:31.705576Z",
     "iopub.status.busy": "2023-12-07T17:30:31.704932Z",
     "iopub.status.idle": "2023-12-07T17:30:37.764914Z",
     "shell.execute_reply": "2023-12-07T17:30:37.764107Z"
    },
    "papermill": {
     "duration": 6.066116,
     "end_time": "2023-12-07T17:30:37.767465",
     "exception": false,
     "start_time": "2023-12-07T17:30:31.701349",
     "status": "completed"
    },
    "tags": []
   },
   "outputs": [
    {
     "name": "stderr",
     "output_type": "stream",
     "text": [
      "Downloading: \"https://download.pytorch.org/models/resnet50-11ad3fa6.pth\" to /root/.cache/torch/hub/checkpoints/resnet50-11ad3fa6.pth\n",
      "100%|██████████| 97.8M/97.8M [00:00<00:00, 144MB/s]\n"
     ]
    }
   ],
   "source": [
    "from torchvision.models import resnet50\n",
    "from torchvision.models import ResNet50_Weights\n",
    "\n",
    "device = torch.device(\"cuda\" if torch.cuda.is_available() else \"cpu\")\n",
    "\n",
    "# Carregar o ResNet-50\n",
    "resnet50 = models.resnet50(weights=ResNet50_Weights.DEFAULT).to(device)\n",
    "resnet50.avgpool = torch.nn.AdaptiveAvgPool2d((1, 1))\n",
    "resnet50 = torch.nn.Sequential(*(list(resnet50.children())[:-1]))\n",
    "resnet50.eval()\n",
    "\n",
    "\n",
    "def extract_features_resnet50(filename):\n",
    "    img = Image.open(filename).convert('RGB')\n",
    "    \n",
    "    transform = transforms.Compose([\n",
    "        transforms.Resize((224, 224)),\n",
    "        transforms.ToTensor(),\n",
    "        transforms.Normalize(mean=[0.485, 0.456, 0.406], std=[0.229, 0.224, 0.225])\n",
    "    ])\n",
    "    \n",
    "    img_tensor = transform(img).to(device)\n",
    "    img_tensor = img_tensor.unsqueeze(0)\n",
    "    \n",
    "    with torch.no_grad():\n",
    "        features = resnet50(img_tensor)\n",
    "        #features = resnet50_avgpool(features)\n",
    "        features = torch.flatten(features)\n",
    "        \n",
    "    return features.cpu().numpy()"
   ]
  },
  {
   "cell_type": "code",
   "execution_count": 4,
   "id": "2a2a808f",
   "metadata": {
    "execution": {
     "iopub.execute_input": "2023-12-07T17:30:37.776121Z",
     "iopub.status.busy": "2023-12-07T17:30:37.775816Z",
     "iopub.status.idle": "2023-12-07T17:31:56.446371Z",
     "shell.execute_reply": "2023-12-07T17:31:56.445418Z"
    },
    "papermill": {
     "duration": 78.680521,
     "end_time": "2023-12-07T17:31:56.451735",
     "exception": false,
     "start_time": "2023-12-07T17:30:37.771214",
     "status": "completed"
    },
    "tags": []
   },
   "outputs": [
    {
     "name": "stdout",
     "output_type": "stream",
     "text": [
      "Treino: (1165, 2048) (1165,)\n",
      "Teste: (655, 2048) (655,)\n"
     ]
    }
   ],
   "source": [
    "X_train_resnet50, y_train_resnet50, X_test_resnet50, y_test_resnet50 = list(), list(), list(), list()\n",
    "\n",
    "base = df.query(\"fold == 1\").query(\"mag == 400\")\n",
    "\n",
    "for index, row in base.iterrows():    \n",
    "    features = extract_features_resnet50(row[\"filename\"])\n",
    "    if row['grp'] == 'train':\n",
    "        X_train_resnet50.append(features)\n",
    "        y_train_resnet50.append(row[\"class\"])\n",
    "    else:\n",
    "        X_test_resnet50.append(features)\n",
    "        y_test_resnet50.append(row[\"class\"])\n",
    "\n",
    "# Convert to numpy arrays\n",
    "X_train_resnet50, y_train_resnet50, X_test_resnet50, y_test_resnet50 = np.array(X_train_resnet50), np.array(y_train_resnet50), np.array(X_test_resnet50), np.array(y_test_resnet50)\n",
    "\n",
    "print('Treino:', X_train_resnet50.shape, y_train_resnet50.shape)\n",
    "print('Teste:', X_test_resnet50.shape, y_test_resnet50.shape)"
   ]
  },
  {
   "cell_type": "code",
   "execution_count": 5,
   "id": "dddc8cae",
   "metadata": {
    "execution": {
     "iopub.execute_input": "2023-12-07T17:31:56.460312Z",
     "iopub.status.busy": "2023-12-07T17:31:56.459777Z",
     "iopub.status.idle": "2023-12-07T17:31:56.476864Z",
     "shell.execute_reply": "2023-12-07T17:31:56.476065Z"
    },
    "papermill": {
     "duration": 0.023429,
     "end_time": "2023-12-07T17:31:56.478690",
     "exception": false,
     "start_time": "2023-12-07T17:31:56.455261",
     "status": "completed"
    },
    "tags": []
   },
   "outputs": [],
   "source": [
    "np.save('./resnet50_X_train.npy', X_train_resnet50)\n",
    "np.save('./resnet50_y_train.npy', y_train_resnet50)\n",
    "np.save('./resnet50_X_test.npy', X_test_resnet50)\n",
    "np.save('./resnet50_y_test.npy', y_test_resnet50)"
   ]
  },
  {
   "cell_type": "code",
   "execution_count": 6,
   "id": "826f79e9",
   "metadata": {
    "execution": {
     "iopub.execute_input": "2023-12-07T17:31:56.487386Z",
     "iopub.status.busy": "2023-12-07T17:31:56.487094Z",
     "iopub.status.idle": "2023-12-07T17:32:00.033695Z",
     "shell.execute_reply": "2023-12-07T17:32:00.032687Z"
    },
    "papermill": {
     "duration": 3.553609,
     "end_time": "2023-12-07T17:32:00.035929",
     "exception": false,
     "start_time": "2023-12-07T17:31:56.482320",
     "status": "completed"
    },
    "tags": []
   },
   "outputs": [
    {
     "name": "stderr",
     "output_type": "stream",
     "text": [
      "/opt/conda/lib/python3.10/site-packages/scipy/__init__.py:146: UserWarning: A NumPy version >=1.16.5 and <1.23.0 is required for this version of SciPy (detected version 1.24.3\n",
      "  warnings.warn(f\"A NumPy version >={np_minversion} and <{np_maxversion}\"\n"
     ]
    },
    {
     "name": "stdout",
     "output_type": "stream",
     "text": [
      "              precision    recall  f1-score   support\n",
      "\n",
      "      benign       0.88      0.54      0.67       237\n",
      "   malignant       0.78      0.96      0.86       418\n",
      "\n",
      "    accuracy                           0.81       655\n",
      "   macro avg       0.83      0.75      0.76       655\n",
      "weighted avg       0.82      0.81      0.79       655\n",
      "\n"
     ]
    }
   ],
   "source": [
    "from sklearn.svm import SVC\n",
    "from sklearn.preprocessing import StandardScaler\n",
    "from sklearn.metrics import accuracy_score, classification_report\n",
    "\n",
    "# Flatten the array along the channel dimension\n",
    "#X_train_resnet50_flat = X_train_resnet50.reshape(X_train_resnet50.shape[0]*X_train_resnet50.shape[1], X_train_resnet50.shape[2])\n",
    "#X_test_resnet50_flat = X_test_resnet50.reshape(X_test_resnet50.shape[0]*X_test_resnet50.shape[1], X_test_resnet50.shape[2])\n",
    "\n",
    "# Normalizando\n",
    "ss = StandardScaler()\n",
    "X_train_scaled = ss.fit_transform(X_train_resnet50)\n",
    "X_test_scaled = ss.transform(X_test_resnet50)\n",
    "\n",
    "\n",
    "# Testando com SVM\n",
    "clf = SVC()\n",
    "clf.fit(X_train_scaled, y_train_resnet50)\n",
    "y_pred_resnet50 = clf.predict(X_test_scaled)\n",
    "\n",
    "print(classification_report(y_test_resnet50, y_pred_resnet50))"
   ]
  }
 ],
 "metadata": {
  "kaggle": {
   "accelerator": "nvidiaTeslaT4",
   "dataSources": [
    {
     "datasetId": 209316,
     "sourceId": 999617,
     "sourceType": "datasetVersion"
    }
   ],
   "dockerImageVersionId": 30588,
   "isGpuEnabled": true,
   "isInternetEnabled": true,
   "language": "python",
   "sourceType": "notebook"
  },
  "kernelspec": {
   "display_name": "Python 3",
   "language": "python",
   "name": "python3"
  },
  "language_info": {
   "codemirror_mode": {
    "name": "ipython",
    "version": 3
   },
   "file_extension": ".py",
   "mimetype": "text/x-python",
   "name": "python",
   "nbconvert_exporter": "python",
   "pygments_lexer": "ipython3",
   "version": "3.10.12"
  },
  "papermill": {
   "default_parameters": {},
   "duration": 103.538045,
   "end_time": "2023-12-07T17:32:02.283299",
   "environment_variables": {},
   "exception": null,
   "input_path": "__notebook__.ipynb",
   "output_path": "__notebook__.ipynb",
   "parameters": {},
   "start_time": "2023-12-07T17:30:18.745254",
   "version": "2.4.0"
  }
 },
 "nbformat": 4,
 "nbformat_minor": 5
}
