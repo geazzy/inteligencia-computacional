{
 "cells": [
  {
   "cell_type": "code",
   "execution_count": 1,
   "id": "2c625a97",
   "metadata": {
    "_cell_guid": "b1076dfc-b9ad-4769-8c92-a6c4dae69d19",
    "_uuid": "8f2839f25d086af736a60e9eeb907d3b93b6e0e5",
    "execution": {
     "iopub.execute_input": "2023-12-07T19:59:47.389422Z",
     "iopub.status.busy": "2023-12-07T19:59:47.388048Z",
     "iopub.status.idle": "2023-12-07T19:59:47.620003Z",
     "shell.execute_reply": "2023-12-07T19:59:47.618083Z"
    },
    "papermill": {
     "duration": 0.239494,
     "end_time": "2023-12-07T19:59:47.622716",
     "exception": false,
     "start_time": "2023-12-07T19:59:47.383222",
     "status": "completed"
    },
    "tags": []
   },
   "outputs": [
    {
     "name": "stdout",
     "output_type": "stream",
     "text": [
      "Copied lbp_100_test_X.npy to /kaggle/working/lbp/lbp_100_test_X.npy\n",
      "Copied lbp_400_test_X.npy to /kaggle/working/lbp/lbp_400_test_X.npy\n",
      "Copied pftas_400_test_y.npy to /kaggle/working/pftas/pftas_400_test_y.npy\n",
      "Copied pftas_200_train_y.npy to /kaggle/working/pftas/pftas_200_train_y.npy\n",
      "Copied lbp_200_test_X.npy to /kaggle/working/lbp/lbp_200_test_X.npy\n",
      "Copied pftas_40_test_X.npy to /kaggle/working/pftas/pftas_40_test_X.npy\n",
      "Copied pftas_100_train_X.npy to /kaggle/working/pftas/pftas_100_train_X.npy\n",
      "Copied lbp_200_train_X.npy to /kaggle/working/lbp/lbp_200_train_X.npy\n",
      "Copied pftas_100_test_y.npy to /kaggle/working/pftas/pftas_100_test_y.npy\n",
      "Copied lbp_100_test_y.npy to /kaggle/working/lbp/lbp_100_test_y.npy\n",
      "Copied pftas_40_train_X.npy to /kaggle/working/pftas/pftas_40_train_X.npy\n",
      "Copied lbp_200_train_y.npy to /kaggle/working/lbp/lbp_200_train_y.npy\n",
      "Copied pftas_100_train_y.npy to /kaggle/working/pftas/pftas_100_train_y.npy\n",
      "Copied lbp_400_train_y.npy to /kaggle/working/lbp/lbp_400_train_y.npy\n",
      "Copied lbp_100_train_y.npy to /kaggle/working/lbp/lbp_100_train_y.npy\n",
      "Copied pftas_200_test_X.npy to /kaggle/working/pftas/pftas_200_test_X.npy\n",
      "Copied pftas_400_train_X.npy to /kaggle/working/pftas/pftas_400_train_X.npy\n",
      "Copied pftas_40_train_y.npy to /kaggle/working/pftas/pftas_40_train_y.npy\n",
      "Copied lbp_100_train_X.npy to /kaggle/working/lbp/lbp_100_train_X.npy\n",
      "Copied pftas_200_test_y.npy to /kaggle/working/pftas/pftas_200_test_y.npy\n",
      "Copied lbp_400_test_y.npy to /kaggle/working/lbp/lbp_400_test_y.npy\n",
      "Copied lbp_40_train_X.npy to /kaggle/working/lbp/lbp_40_train_X.npy\n",
      "Copied lbp_200_test_y.npy to /kaggle/working/lbp/lbp_200_test_y.npy\n",
      "Copied lbp_40_test_X.npy to /kaggle/working/lbp/lbp_40_test_X.npy\n",
      "Copied lbp_40_test_y.npy to /kaggle/working/lbp/lbp_40_test_y.npy\n",
      "Copied pftas_400_test_X.npy to /kaggle/working/pftas/pftas_400_test_X.npy\n",
      "Copied pftas_40_test_y.npy to /kaggle/working/pftas/pftas_40_test_y.npy\n",
      "Copied pftas_400_train_y.npy to /kaggle/working/pftas/pftas_400_train_y.npy\n",
      "Copied lbp_40_train_y.npy to /kaggle/working/lbp/lbp_40_train_y.npy\n",
      "Copied lbp_400_train_X.npy to /kaggle/working/lbp/lbp_400_train_X.npy\n",
      "Copied pftas_100_test_X.npy to /kaggle/working/pftas/pftas_100_test_X.npy\n",
      "Copied pftas_200_train_X.npy to /kaggle/working/pftas/pftas_200_train_X.npy\n",
      "File move operation completed.\n"
     ]
    }
   ],
   "source": [
    "import os\n",
    "import shutil\n",
    "\n",
    "# Set the source directory and the destination directory\n",
    "root_dir = \"/kaggle/input/breakhis-features-dataset/\"\n",
    "dest_dir = \"/kaggle/working/\"\n",
    "features = ['lbp', 'pftas']\n",
    "\n",
    "files = os.listdir(root_dir)\n",
    "\n",
    "for file in files:\n",
    "    for f in features:\n",
    "        # Move the following line inside the loop to create subdirectories for each feature\n",
    "        dest_path = os.path.join(dest_dir, f)\n",
    "        if not os.path.exists(dest_path):\n",
    "            os.makedirs(dest_path)\n",
    "\n",
    "        if file.startswith(f):\n",
    "            source_path = os.path.join(root_dir, file)\n",
    "            destination_path = os.path.join(dest_path, file)\n",
    "            shutil.copy(source_path, destination_path)\n",
    "            print(f\"Copied {file} to {destination_path}\")\n",
    "\n",
    "print(\"File move operation completed.\")\n"
   ]
  }
 ],
 "metadata": {
  "kaggle": {
   "accelerator": "none",
   "dataSources": [
    {
     "datasetId": 4127732,
     "sourceId": 7149469,
     "sourceType": "datasetVersion"
    }
   ],
   "dockerImageVersionId": 30615,
   "isGpuEnabled": false,
   "isInternetEnabled": true,
   "language": "python",
   "sourceType": "notebook"
  },
  "kernelspec": {
   "display_name": "Python 3",
   "language": "python",
   "name": "python3"
  },
  "language_info": {
   "codemirror_mode": {
    "name": "ipython",
    "version": 3
   },
   "file_extension": ".py",
   "mimetype": "text/x-python",
   "name": "python",
   "nbconvert_exporter": "python",
   "pygments_lexer": "ipython3",
   "version": "3.10.12"
  },
  "papermill": {
   "default_parameters": {},
   "duration": 4.45789,
   "end_time": "2023-12-07T19:59:48.148112",
   "environment_variables": {},
   "exception": null,
   "input_path": "__notebook__.ipynb",
   "output_path": "__notebook__.ipynb",
   "parameters": {},
   "start_time": "2023-12-07T19:59:43.690222",
   "version": "2.4.0"
  }
 },
 "nbformat": 4,
 "nbformat_minor": 5
}
