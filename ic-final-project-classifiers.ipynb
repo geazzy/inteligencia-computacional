{
 "cells": [
  {
   "cell_type": "code",
   "execution_count": 1,
   "id": "69e85854",
   "metadata": {
    "_cell_guid": "b1076dfc-b9ad-4769-8c92-a6c4dae69d19",
    "_uuid": "8f2839f25d086af736a60e9eeb907d3b93b6e0e5",
    "execution": {
     "iopub.execute_input": "2023-12-08T02:44:41.189835Z",
     "iopub.status.busy": "2023-12-08T02:44:41.189277Z",
     "iopub.status.idle": "2023-12-08T08:55:02.792917Z",
     "shell.execute_reply": "2023-12-08T08:55:02.791519Z"
    },
    "papermill": {
     "duration": 22221.612674,
     "end_time": "2023-12-08T08:55:02.795362",
     "exception": false,
     "start_time": "2023-12-08T02:44:41.182688",
     "status": "completed"
    },
    "tags": []
   },
   "outputs": [
    {
     "name": "stdout",
     "output_type": "stream",
     "text": [
      "Training and save model to clf SVM feature lbp mag 40 pca ratio 1\n",
      "Training and save model to clf MLP feature lbp mag 40 pca ratio 1\n",
      "Training and save model to clf RFC feature lbp mag 40 pca ratio 1\n",
      "Training and save model to clf majority_model feature lbp mag 40 pca ratio 1\n",
      "Training and save model to clf maximo_model feature lbp mag 40 pca ratio 1\n",
      "Training and save model to clf SVM feature lbp mag 100 pca ratio 1\n",
      "Training and save model to clf MLP feature lbp mag 100 pca ratio 1\n",
      "Training and save model to clf RFC feature lbp mag 100 pca ratio 1\n",
      "Training and save model to clf majority_model feature lbp mag 100 pca ratio 1\n",
      "Training and save model to clf maximo_model feature lbp mag 100 pca ratio 1\n",
      "Training and save model to clf SVM feature lbp mag 200 pca ratio 1\n",
      "Training and save model to clf MLP feature lbp mag 200 pca ratio 1\n",
      "Training and save model to clf RFC feature lbp mag 200 pca ratio 1\n",
      "Training and save model to clf majority_model feature lbp mag 200 pca ratio 1\n",
      "Training and save model to clf maximo_model feature lbp mag 200 pca ratio 1\n",
      "Training and save model to clf SVM feature lbp mag 400 pca ratio 1\n",
      "Training and save model to clf MLP feature lbp mag 400 pca ratio 1\n",
      "Training and save model to clf RFC feature lbp mag 400 pca ratio 1\n",
      "Training and save model to clf majority_model feature lbp mag 400 pca ratio 1\n",
      "Training and save model to clf maximo_model feature lbp mag 400 pca ratio 1\n",
      "Training and save model to clf SVM feature pftas mag 40 pca ratio 1\n",
      "Training and save model to clf MLP feature pftas mag 40 pca ratio 1\n",
      "Training and save model to clf RFC feature pftas mag 40 pca ratio 1\n",
      "Training and save model to clf majority_model feature pftas mag 40 pca ratio 1\n",
      "Training and save model to clf maximo_model feature pftas mag 40 pca ratio 1\n",
      "Training and save model to clf SVM feature pftas mag 100 pca ratio 1\n",
      "Training and save model to clf MLP feature pftas mag 100 pca ratio 1\n",
      "Training and save model to clf RFC feature pftas mag 100 pca ratio 1\n",
      "Training and save model to clf majority_model feature pftas mag 100 pca ratio 1\n",
      "Training and save model to clf maximo_model feature pftas mag 100 pca ratio 1\n",
      "Training and save model to clf SVM feature pftas mag 200 pca ratio 1\n",
      "Training and save model to clf MLP feature pftas mag 200 pca ratio 1\n",
      "Training and save model to clf RFC feature pftas mag 200 pca ratio 1\n",
      "Training and save model to clf majority_model feature pftas mag 200 pca ratio 1\n",
      "Training and save model to clf maximo_model feature pftas mag 200 pca ratio 1\n",
      "Training and save model to clf SVM feature pftas mag 400 pca ratio 1\n",
      "Training and save model to clf MLP feature pftas mag 400 pca ratio 1\n",
      "Training and save model to clf RFC feature pftas mag 400 pca ratio 1\n",
      "Training and save model to clf majority_model feature pftas mag 400 pca ratio 1\n",
      "Training and save model to clf maximo_model feature pftas mag 400 pca ratio 1\n",
      "Training and save model to clf SVM feature vgg mag 40 pca ratio 1\n",
      "Training and save model to clf MLP feature vgg mag 40 pca ratio 1\n",
      "Training and save model to clf RFC feature vgg mag 40 pca ratio 1\n",
      "Training and save model to clf majority_model feature vgg mag 40 pca ratio 1\n",
      "Training and save model to clf maximo_model feature vgg mag 40 pca ratio 1\n",
      "Training and save model to clf SVM feature vgg mag 100 pca ratio 1\n",
      "Training and save model to clf MLP feature vgg mag 100 pca ratio 1\n",
      "Training and save model to clf RFC feature vgg mag 100 pca ratio 1\n",
      "Training and save model to clf majority_model feature vgg mag 100 pca ratio 1\n",
      "Training and save model to clf maximo_model feature vgg mag 100 pca ratio 1\n",
      "Training and save model to clf SVM feature vgg mag 200 pca ratio 1\n",
      "Training and save model to clf MLP feature vgg mag 200 pca ratio 1\n",
      "Training and save model to clf RFC feature vgg mag 200 pca ratio 1\n",
      "Training and save model to clf majority_model feature vgg mag 200 pca ratio 1\n",
      "Training and save model to clf maximo_model feature vgg mag 200 pca ratio 1\n",
      "Training and save model to clf SVM feature vgg mag 400 pca ratio 1\n",
      "Training and save model to clf MLP feature vgg mag 400 pca ratio 1\n",
      "Training and save model to clf RFC feature vgg mag 400 pca ratio 1\n",
      "Training and save model to clf majority_model feature vgg mag 400 pca ratio 1\n",
      "Training and save model to clf maximo_model feature vgg mag 400 pca ratio 1\n",
      "Training and save model to clf SVM feature resnet mag 40 pca ratio 1\n",
      "Training and save model to clf MLP feature resnet mag 40 pca ratio 1\n",
      "Training and save model to clf RFC feature resnet mag 40 pca ratio 1\n",
      "Training and save model to clf majority_model feature resnet mag 40 pca ratio 1\n",
      "Training and save model to clf maximo_model feature resnet mag 40 pca ratio 1\n",
      "Training and save model to clf SVM feature resnet mag 100 pca ratio 1\n",
      "Training and save model to clf MLP feature resnet mag 100 pca ratio 1\n",
      "Training and save model to clf RFC feature resnet mag 100 pca ratio 1\n",
      "Training and save model to clf majority_model feature resnet mag 100 pca ratio 1\n",
      "Training and save model to clf maximo_model feature resnet mag 100 pca ratio 1\n",
      "Training and save model to clf SVM feature resnet mag 200 pca ratio 1\n",
      "Training and save model to clf MLP feature resnet mag 200 pca ratio 1\n",
      "Training and save model to clf RFC feature resnet mag 200 pca ratio 1\n",
      "Training and save model to clf majority_model feature resnet mag 200 pca ratio 1\n",
      "Training and save model to clf maximo_model feature resnet mag 200 pca ratio 1\n",
      "Training and save model to clf SVM feature resnet mag 400 pca ratio 1\n",
      "Training and save model to clf MLP feature resnet mag 400 pca ratio 1\n",
      "Training and save model to clf RFC feature resnet mag 400 pca ratio 1\n",
      "Training and save model to clf majority_model feature resnet mag 400 pca ratio 1\n",
      "Training and save model to clf maximo_model feature resnet mag 400 pca ratio 1\n"
     ]
    }
   ],
   "source": [
    "import pandas as pd\n",
    "import pickle\n",
    "import numpy as np\n",
    "from sklearn import metrics\n",
    "from sklearn.model_selection import GridSearchCV\n",
    "from sklearn.preprocessing import StandardScaler\n",
    "from sklearn.decomposition import PCA\n",
    "from sklearn import svm\n",
    "from sklearn.neural_network import MLPClassifier\n",
    "from sklearn.ensemble import RandomForestClassifier, VotingClassifier\n",
    "import os\n",
    "\n",
    "import sys\n",
    "import warnings\n",
    "\n",
    "if not sys.warnoptions:\n",
    "    warnings.simplefilter(\"ignore\")\n",
    "    os.environ[\"PYTHONWARNINGS\"] = \"ignore\"  # Also affect subprocesses\n",
    "\n",
    "def to_str(clf, ext, mag, pca_ratio, report):\n",
    "    return f\"{clf}; {ext}; {mag}; {pca_ratio};{report['benign']['precision']}; {report['benign']['recall']}; {report['benign']['f1-score']};{report['malignant']['precision']}; {report['malignant']['recall']}; {report['malignant']['f1-score']};{report['macro avg']['precision']}; {report['macro avg']['recall']}; {report['macro avg']['f1-score']};{report['weighted avg']['precision']}; {report['weighted avg']['recall']}; {report['weighted avg']['f1-score']};\\n\"\n",
    "\n",
    "def save(value, filename):\n",
    "    dump_directory = './dump'\n",
    "    os.makedirs(dump_directory, exist_ok=True)\n",
    "    path = os.path.join(dump_directory, filename)\n",
    "    pickle.dump(value, open(path, 'wb'))\n",
    "\n",
    "def load_data(ext, mag, data_type='train'):\n",
    "   \n",
    "    file_path_x = f'/kaggle/input/ic-features/features/{ext}/{ext}_{mag}_X_{data_type}.npy'\n",
    "    file_path_y = f'/kaggle/input/ic-features/features/{ext}/{ext}_{mag}_y_{data_type}.npy'\n",
    "\n",
    "    try:\n",
    "        X_data = np.load(file_path_x)\n",
    "        y_data = np.load(file_path_y)\n",
    "        return X_data, y_data\n",
    "    except FileNotFoundError as e:\n",
    "        print(f\"Error loading data for {ext}_{mag}_{data_type}: {e}\")\n",
    "        return None, None\n",
    "\n",
    "\n",
    "def train_and_save_model(model, param_grid, X_train, y_train, X_test, y_test, ext, mag, pca_ratio, clf_name):\n",
    "    grid = GridSearchCV(model, param_grid, cv=5)\n",
    "    grid.fit(X_train, y_train)\n",
    "    y_pred = grid.predict(X_test)\n",
    "\n",
    "    save(grid, f\"{clf_name}_grid_{ext}_{mag}_{pca_ratio}.pkl\")\n",
    "    save(y_pred, f\"ypre_{clf_name}_{ext}_{mag}_{pca_ratio}.pkl\")\n",
    "\n",
    "    return grid, y_pred\n",
    "\n",
    "def main():\n",
    "    with open('./results.csv', 'w') as file:\n",
    "        file.write(\"clf;ext;mag;pca_ratio;benign-precision; benign-recall; benign-f1-score;malignant-precision;malignant-recall;malignant-f1-score;macro avg-precision;macro avg-recall;macro avg-f1-score;weighted avg-precision;weighted avg-recall;weighted avg-f1-score;\\n\")\n",
    "\n",
    "        for ext in ['lbp', 'pftas', 'vgg', 'resnet']:\n",
    "            for mag in ['40', '100', '200', '400']:\n",
    "                try:\n",
    "                    X_train, y_train = load_data(ext, mag, 'train')\n",
    "                    X_test, y_test = load_data(ext, mag, 'test')\n",
    "                except TypeError as e:\n",
    "                    print(f\"Error loading data for {ext}_{mag}_train or test: {e}\")\n",
    "                    continue  # Skip to the next iteration\n",
    "\n",
    "                \n",
    "                #for pca_ratio in [1, 0.75, 0.5]:\n",
    "                for pca_ratio in [1]:\n",
    "                    ss = StandardScaler()\n",
    "                    X_train = ss.fit_transform(X_train)\n",
    "                    X_test = ss.transform(X_test)\n",
    "\n",
    "                    if pca_ratio != 1:\n",
    "                        pca = PCA(n_components=int(X_train.shape[1] * pca_ratio))\n",
    "                        X_train = pca.fit_transform(X_train)\n",
    "                        X_test = pca.transform(X_test)\n",
    "                    \n",
    "\n",
    "                    # SVM\n",
    "                    print(f\"Training and save model to clf SVM feature {ext} mag {mag} pca ratio {pca_ratio}\")\n",
    "                    param_grid_svm = {\n",
    "                        'kernel': ['linear', 'rbf', 'poly'],\n",
    "                        'C': [0.0001, 0.001, 1, 100, 1000],\n",
    "                        'gamma': ['scale', 'auto']\n",
    "                    }\n",
    "                    svm_model, y_pred_svm = train_and_save_model(svm.SVC(probability=True), param_grid_svm, X_train, y_train, X_test, y_test, ext, mag, pca_ratio, 'SVM')\n",
    "                    file.write(to_str('svm', ext, mag, pca_ratio, metrics.classification_report(y_test, y_pred_svm, digits=5, output_dict=True)))\n",
    "\n",
    "                    # MLP\n",
    "                    print(f\"Training and save model to clf MLP feature {ext} mag {mag} pca ratio {pca_ratio}\")\n",
    "                    param_grid_mlp = {\n",
    "                        'hidden_layer_sizes': [(10,), (50,), (100,)],\n",
    "                        'activation': ['relu', 'tanh', 'logistic'],\n",
    "                        'solver': ['sgd', 'adam'],\n",
    "                        'alpha': [0.0001, 0.001, 0.01],\n",
    "                    }\n",
    "                    mlp_model, y_pred_mlp = train_and_save_model(MLPClassifier(max_iter=200), param_grid_mlp, X_train, y_train, X_test, y_test, ext, mag, pca_ratio, 'MLP')\n",
    "                    file.write(to_str('mlp', ext, mag, pca_ratio, metrics.classification_report(y_test, y_pred_mlp, digits=5, output_dict=True)))\n",
    "\n",
    "                    # RFC\n",
    "                    print(f\"Training and save model to clf RFC feature {ext} mag {mag} pca ratio {pca_ratio}\")\n",
    "                    param_grid_rfc = {\n",
    "                        'n_estimators': [50, 100, 200],\n",
    "                        'max_depth': [None, 5, 10, 20],\n",
    "                        'min_samples_split': [2, 5, 10],\n",
    "                        'min_samples_leaf': [1, 2, 4],\n",
    "                    }\n",
    "                    rfc_model, y_pred_rfc = train_and_save_model(RandomForestClassifier(), param_grid_rfc, X_train, y_train, X_test, y_test, ext, mag, pca_ratio, 'RFC')\n",
    "                    file.write(to_str('rfc', ext, mag, pca_ratio, metrics.classification_report(y_test, y_pred_rfc, digits=5, output_dict=True)))\n",
    "\n",
    "                    # MAIORIA\n",
    "                    print(f\"Training and save model to clf majority_model feature {ext} mag {mag} pca ratio {pca_ratio}\")\n",
    "                    majority_model = VotingClassifier(estimators=[\n",
    "                        ('rfc', rfc_model.best_estimator_),\n",
    "                        ('svm', svm_model.best_estimator_),\n",
    "                        ('mlp', mlp_model.best_estimator_)\n",
    "                    ], voting='hard', n_jobs=-1)\n",
    "                    majority_model.fit(X_train, y_train)\n",
    "                    y_pred_majority = majority_model.predict(X_test)\n",
    "                    save(majority_model, f\"MAIORIA_grid_{ext}_{mag}_{pca_ratio}.pkl\")\n",
    "                    save(y_pred_majority, f\"ypre_MAIORIA_{ext}_{mag}_{pca_ratio}.pkl\")\n",
    "                    file.write(to_str('maioria', ext, mag, pca_ratio, metrics.classification_report(y_test, y_pred_majority, digits=5, output_dict=True)))\n",
    "\n",
    "                    # MAXIMO\n",
    "                    print(f\"Training and save model to clf maximo_model feature {ext} mag {mag} pca ratio {pca_ratio}\")\n",
    "                    maximo_model = VotingClassifier(estimators=[\n",
    "                        ('rfc', rfc_model.best_estimator_),\n",
    "                        ('svm', svm_model.best_estimator_),\n",
    "                        ('mlp', mlp_model.best_estimator_)\n",
    "                    ], voting='soft', n_jobs=-1)\n",
    "                    maximo_model.fit(X_train, y_train)\n",
    "                    y_pred_maximo = maximo_model.predict(X_test)\n",
    "                    save(maximo_model, f\"MAXIMO_grid_{ext}_{mag}_{pca_ratio}.pkl\")\n",
    "                    save(y_pred_maximo, f\"ypre_MAXIMO_{ext}_{mag}_{pca_ratio}.pkl\")\n",
    "                    file.write(to_str('maximo', ext, mag, pca_ratio, metrics.classification_report(y_test, y_pred_maximo, digits=5, output_dict=True)))\n",
    "\n",
    "if __name__ == \"__main__\":\n",
    "    main()"
   ]
  },
  {
   "cell_type": "markdown",
   "id": "6eb574a8",
   "metadata": {
    "papermill": {
     "duration": 0.010304,
     "end_time": "2023-12-08T08:55:02.816662",
     "exception": false,
     "start_time": "2023-12-08T08:55:02.806358",
     "status": "completed"
    },
    "tags": []
   },
   "source": [
    "### Normalização"
   ]
  },
  {
   "cell_type": "code",
   "execution_count": 2,
   "id": "9d1e1934",
   "metadata": {
    "execution": {
     "iopub.execute_input": "2023-12-08T08:55:02.840245Z",
     "iopub.status.busy": "2023-12-08T08:55:02.839482Z",
     "iopub.status.idle": "2023-12-08T08:55:02.845277Z",
     "shell.execute_reply": "2023-12-08T08:55:02.844583Z"
    },
    "papermill": {
     "duration": 0.020148,
     "end_time": "2023-12-08T08:55:02.847495",
     "exception": false,
     "start_time": "2023-12-08T08:55:02.827347",
     "status": "completed"
    },
    "tags": []
   },
   "outputs": [],
   "source": [
    "# # Normalizando  /kaggle/input/ic-features/features/lbp/lbp_40_test_X.npy \n",
    "                  \n",
    "# ss = StandardScaler()\n",
    "# X_train = ss.fit_transform(X_train)\n",
    "# X_test = ss.transform(X_test)"
   ]
  },
  {
   "cell_type": "markdown",
   "id": "ced5fb88",
   "metadata": {
    "papermill": {
     "duration": 0.008702,
     "end_time": "2023-12-08T08:55:02.866952",
     "exception": false,
     "start_time": "2023-12-08T08:55:02.858250",
     "status": "completed"
    },
    "tags": []
   },
   "source": [
    "### SVM com Grid Search"
   ]
  },
  {
   "cell_type": "code",
   "execution_count": 3,
   "id": "cd63bad2",
   "metadata": {
    "execution": {
     "iopub.execute_input": "2023-12-08T08:55:02.884833Z",
     "iopub.status.busy": "2023-12-08T08:55:02.884494Z",
     "iopub.status.idle": "2023-12-08T08:55:02.888545Z",
     "shell.execute_reply": "2023-12-08T08:55:02.887679Z"
    },
    "papermill": {
     "duration": 0.014786,
     "end_time": "2023-12-08T08:55:02.890381",
     "exception": false,
     "start_time": "2023-12-08T08:55:02.875595",
     "status": "completed"
    },
    "tags": []
   },
   "outputs": [],
   "source": [
    "# from sklearn import svm\n",
    "\n",
    "# param_grid = {\n",
    "#     'kernel': ['linear', 'rbf', 'poly'],\n",
    "#     'C': [0.0001, 0.001, 1, 100, 1000],\n",
    "#     'gamma': ['scale', 'auto']\n",
    "# }\n",
    "\n",
    "# svm_grid = GridSearchCV(svm.SVC(probability=True), param_grid, cv=5)\n",
    "# svm_grid.fit(X_train, y_train)\n",
    "\n",
    "# with open(f'./{ext}_{mag}_svm.pickle', 'wb') as file:\n",
    "#     pickle.dump(grid, file)"
   ]
  },
  {
   "cell_type": "code",
   "execution_count": 4,
   "id": "e3ddce84",
   "metadata": {
    "execution": {
     "iopub.execute_input": "2023-12-08T08:55:02.909295Z",
     "iopub.status.busy": "2023-12-08T08:55:02.908678Z",
     "iopub.status.idle": "2023-12-08T08:55:02.912614Z",
     "shell.execute_reply": "2023-12-08T08:55:02.912045Z"
    },
    "papermill": {
     "duration": 0.015455,
     "end_time": "2023-12-08T08:55:02.914258",
     "exception": false,
     "start_time": "2023-12-08T08:55:02.898803",
     "status": "completed"
    },
    "tags": []
   },
   "outputs": [],
   "source": [
    "# with open(f'./{ext}_{mag}_svm.pickle', 'rb') as file:\n",
    "#     svm_grid = pickle.load(file)\n",
    "\n",
    "# print(\"Melhores Parâmetros:\", svm_grid.best_params_, '\\n')\n",
    "\n",
    "# y_pred = svm_grid.predict(X_test)\n",
    "# print(metrics.classification_report(y_test, y_pred, digits=5))\n",
    "\n",
    "\n",
    "# # --------\n",
    "# with open(f'./{ext}_{mag}_pca{pca_ratio}.txt', 'a+') as file:\n",
    "#     file.write('SVM\\n')\n",
    "#     file.write(str(svm_grid.best_params_) + '\\n')\n",
    "#     file.write(metrics.classification_report(y_test, y_pred, digits=5) + '\\n')"
   ]
  },
  {
   "cell_type": "markdown",
   "id": "fad3ebbf",
   "metadata": {
    "papermill": {
     "duration": 0.00777,
     "end_time": "2023-12-08T08:55:02.930238",
     "exception": false,
     "start_time": "2023-12-08T08:55:02.922468",
     "status": "completed"
    },
    "tags": []
   },
   "source": [
    "### MLP com Grid Search"
   ]
  },
  {
   "cell_type": "code",
   "execution_count": 5,
   "id": "06daa14c",
   "metadata": {
    "execution": {
     "iopub.execute_input": "2023-12-08T08:55:02.948474Z",
     "iopub.status.busy": "2023-12-08T08:55:02.947597Z",
     "iopub.status.idle": "2023-12-08T08:55:02.951475Z",
     "shell.execute_reply": "2023-12-08T08:55:02.950853Z"
    },
    "papermill": {
     "duration": 0.014895,
     "end_time": "2023-12-08T08:55:02.953056",
     "exception": false,
     "start_time": "2023-12-08T08:55:02.938161",
     "status": "completed"
    },
    "tags": []
   },
   "outputs": [],
   "source": [
    "# from sklearn.neural_network import MLPClassifier\n",
    "\n",
    "# parameters = {\n",
    "#     'hidden_layer_sizes': [(10,), (50,), (100,)],\n",
    "#     'activation': ['relu', 'tanh', 'logistic'],\n",
    "#     'solver': ['sgd', 'adam'],\n",
    "#     'alpha': [0.0001, 0.001, 0.01],\n",
    "# }\n",
    "\n",
    "# mlp_grid = GridSearchCV(MLPClassifier(max_iter=200), parameters, n_jobs=-1, cv=5)\n",
    "# mlp_grid.fit(X_train, y_train)\n",
    "\n",
    "# with open(f'./{ext}_{mag}_mlp.pickle', 'wb') as file:\n",
    "#     pickle.dump(grid, file)"
   ]
  },
  {
   "cell_type": "code",
   "execution_count": 6,
   "id": "6ca9043a",
   "metadata": {
    "execution": {
     "iopub.execute_input": "2023-12-08T08:55:02.970803Z",
     "iopub.status.busy": "2023-12-08T08:55:02.970397Z",
     "iopub.status.idle": "2023-12-08T08:55:02.974407Z",
     "shell.execute_reply": "2023-12-08T08:55:02.973540Z"
    },
    "papermill": {
     "duration": 0.015165,
     "end_time": "2023-12-08T08:55:02.976179",
     "exception": false,
     "start_time": "2023-12-08T08:55:02.961014",
     "status": "completed"
    },
    "tags": []
   },
   "outputs": [],
   "source": [
    "# with open(f'./{ext}_{mag}_mlp.pickle', 'rb') as file:\n",
    "#     mlp_grid = pickle.load(file)\n",
    "\n",
    "# print(\"Melhores Parâmetros:\", mlp_grid.best_params_, '\\n')\n",
    "\n",
    "# y_pred = mlp_grid.predict(X_test)\n",
    "# print(metrics.classification_report(y_test, y_pred, digits=5))\n",
    "\n",
    "# # --------\n",
    "# with open(f'./{ext}_{mag}_pca{pca_ratio}.txt', 'a+') as file:\n",
    "#     file.write('MLP\\n')\n",
    "#     file.write(str(mlp_grid.best_params_) + '\\n')\n",
    "#     file.write(metrics.classification_report(y_test, y_pred, digits=5) + '\\n')"
   ]
  },
  {
   "cell_type": "markdown",
   "id": "38181cc7",
   "metadata": {
    "papermill": {
     "duration": 0.007919,
     "end_time": "2023-12-08T08:55:02.992038",
     "exception": false,
     "start_time": "2023-12-08T08:55:02.984119",
     "status": "completed"
    },
    "tags": []
   },
   "source": [
    "#### RFC com Grid Search"
   ]
  },
  {
   "cell_type": "code",
   "execution_count": 7,
   "id": "5148064d",
   "metadata": {
    "execution": {
     "iopub.execute_input": "2023-12-08T08:55:03.010018Z",
     "iopub.status.busy": "2023-12-08T08:55:03.009647Z",
     "iopub.status.idle": "2023-12-08T08:55:03.013981Z",
     "shell.execute_reply": "2023-12-08T08:55:03.013112Z"
    },
    "papermill": {
     "duration": 0.015877,
     "end_time": "2023-12-08T08:55:03.016010",
     "exception": false,
     "start_time": "2023-12-08T08:55:03.000133",
     "status": "completed"
    },
    "tags": []
   },
   "outputs": [],
   "source": [
    "# from sklearn.ensemble import RandomForestClassifier\n",
    "\n",
    "# parameters = {\n",
    "#     'n_estimators': [50, 100, 200],\n",
    "#     'max_depth': [None, 5, 10, 20],\n",
    "#     'min_samples_split': [2, 5, 10],\n",
    "#     'min_samples_leaf': [1, 2, 4],\n",
    "# }\n",
    "\n",
    "# grid = GridSearchCV(RandomForestClassifier(), parameters, n_jobs=-1, cv=5)\n",
    "# grid.fit(X_train, y_train)\n",
    "\n",
    "# with open(f'./{ext}_{mag}_rfc.pickle', 'wb') as file:\n",
    "#     pickle.dump(grid, file)"
   ]
  },
  {
   "cell_type": "code",
   "execution_count": 8,
   "id": "537d9a30",
   "metadata": {
    "execution": {
     "iopub.execute_input": "2023-12-08T08:55:03.035168Z",
     "iopub.status.busy": "2023-12-08T08:55:03.034557Z",
     "iopub.status.idle": "2023-12-08T08:55:03.038991Z",
     "shell.execute_reply": "2023-12-08T08:55:03.037967Z"
    },
    "papermill": {
     "duration": 0.015389,
     "end_time": "2023-12-08T08:55:03.040567",
     "exception": false,
     "start_time": "2023-12-08T08:55:03.025178",
     "status": "completed"
    },
    "tags": []
   },
   "outputs": [],
   "source": [
    "# with open(f'./{ext}_{mag}_rfc.pickle', 'rb') as file:\n",
    "#     rfc_grid = pickle.load(file)\n",
    "\n",
    "# print(\"Melhores Parâmetros:\", rfc_grid.best_params_, '\\n')\n",
    "\n",
    "# y_pred = rfc_grid.predict(X_test)\n",
    "# print(metrics.classification_report(y_test, y_pred, digits=5))\n",
    "\n",
    "# # --------\n",
    "# with open(f'./{ext}_{mag}_pca{pca_ratio}.txt', 'a+') as file:\n",
    "#     file.write('RFC\\n')\n",
    "#     file.write(str(rfc_grid.best_params_) + '\\n')\n",
    "#     file.write(metrics.classification_report(y_test, y_pred, digits=5) + '\\n')"
   ]
  },
  {
   "cell_type": "markdown",
   "id": "aaca023f",
   "metadata": {
    "papermill": {
     "duration": 0.007862,
     "end_time": "2023-12-08T08:55:03.056882",
     "exception": false,
     "start_time": "2023-12-08T08:55:03.049020",
     "status": "completed"
    },
    "tags": []
   },
   "source": [
    "### Combinação"
   ]
  },
  {
   "cell_type": "code",
   "execution_count": 9,
   "id": "b1d92a6d",
   "metadata": {
    "execution": {
     "iopub.execute_input": "2023-12-08T08:55:03.074546Z",
     "iopub.status.busy": "2023-12-08T08:55:03.073949Z",
     "iopub.status.idle": "2023-12-08T08:55:03.077439Z",
     "shell.execute_reply": "2023-12-08T08:55:03.076891Z"
    },
    "papermill": {
     "duration": 0.014296,
     "end_time": "2023-12-08T08:55:03.079227",
     "exception": false,
     "start_time": "2023-12-08T08:55:03.064931",
     "status": "completed"
    },
    "tags": []
   },
   "outputs": [],
   "source": [
    "# from sklearn.ensemble import VotingClassifier\n",
    "\n",
    "# #MAIORIA\n",
    "\n",
    "# # voting = hard -> uses predicted class labels for majority rule voting\n",
    "# clf = VotingClassifier(estimators=[('rfc', rfc_grid.best_estimator_), ('svm', svm_grid.best_estimator_), ('mlp', mlp_grid.best_estimator_)], voting='hard', n_jobs=-1)\n",
    "# clf.fit(X_train, y_train)\n",
    "# y_pred = clf.predict(X_test)\n",
    "# print(metrics.classification_report(y_test, y_pred, digits=5))\n",
    "\n",
    "# # --------\n",
    "# with open(f'./{ext}_{mag}_pca{pca_ratio}.txt', 'a+') as file:\n",
    "#     file.write('MAIORIA\\n')\n",
    "#     file.write(metrics.classification_report(y_test, y_pred, digits=5) + '\\n')"
   ]
  },
  {
   "cell_type": "code",
   "execution_count": 10,
   "id": "bfffac39",
   "metadata": {
    "execution": {
     "iopub.execute_input": "2023-12-08T08:55:03.097871Z",
     "iopub.status.busy": "2023-12-08T08:55:03.097199Z",
     "iopub.status.idle": "2023-12-08T08:55:03.101544Z",
     "shell.execute_reply": "2023-12-08T08:55:03.100648Z"
    },
    "papermill": {
     "duration": 0.016149,
     "end_time": "2023-12-08T08:55:03.103583",
     "exception": false,
     "start_time": "2023-12-08T08:55:03.087434",
     "status": "completed"
    },
    "tags": []
   },
   "outputs": [],
   "source": [
    "# #MAXIMO\n",
    "\n",
    "# # voting = hard -> uses predicted class labels for majority rule voting\n",
    "# clf = VotingClassifier(estimators=[('rfc', rfc_grid.best_estimator_), ('svm', svm_grid.best_estimator_), ('mlp', mlp_grid.best_estimator_)], voting='soft', n_jobs=-1)\n",
    "# clf.fit(X_train, y_train)\n",
    "# y_pred = clf.predict(X_test)\n",
    "# print(metrics.classification_report(y_test, y_pred, digits=5))\n",
    "\n",
    "# # --------\n",
    "# with open(f'./{ext}_{mag}_pca{pca_ratio}.txt', 'a+') as file:\n",
    "#     file.write('MAXIMO\\n')\n",
    "#     file.write(metrics.classification_report(y_test, y_pred, digits=5) + '\\n')"
   ]
  }
 ],
 "metadata": {
  "kaggle": {
   "accelerator": "none",
   "dataSources": [
    {
     "datasetId": 4127828,
     "sourceId": 7150743,
     "sourceType": "datasetVersion"
    }
   ],
   "dockerImageVersionId": 30587,
   "isGpuEnabled": false,
   "isInternetEnabled": false,
   "language": "python",
   "sourceType": "notebook"
  },
  "kernelspec": {
   "display_name": "Python 3",
   "language": "python",
   "name": "python3"
  },
  "language_info": {
   "codemirror_mode": {
    "name": "ipython",
    "version": 3
   },
   "file_extension": ".py",
   "mimetype": "text/x-python",
   "name": "python",
   "nbconvert_exporter": "python",
   "pygments_lexer": "ipython3",
   "version": "3.10.12"
  },
  "papermill": {
   "default_parameters": {},
   "duration": 22227.277961,
   "end_time": "2023-12-08T08:55:05.774883",
   "environment_variables": {},
   "exception": null,
   "input_path": "__notebook__.ipynb",
   "output_path": "__notebook__.ipynb",
   "parameters": {},
   "start_time": "2023-12-08T02:44:38.496922",
   "version": "2.4.0"
  }
 },
 "nbformat": 4,
 "nbformat_minor": 5
}
